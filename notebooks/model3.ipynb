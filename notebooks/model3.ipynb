{
 "cells": [
  {
   "cell_type": "code",
   "execution_count": 1,
   "metadata": {},
   "outputs": [
    {
     "name": "stderr",
     "output_type": "stream",
     "text": [
      "Using backend: pytorch\n",
      "Other supported backends: tensorflow.compat.v1, tensorflow, jax, paddle.\n",
      "paddle supports more examples now and is recommended.\n"
     ]
    }
   ],
   "source": [
    "import torch\n",
    "\n",
    "# assert torch.cuda.is_available()\n",
    "\n",
    "from deepxdeAbeta import deepxde as dde\n",
    "\n",
    "import numpy as np\n",
    "import matplotlib.pyplot as plt\n",
    "import pandas as pd\n",
    "from scipy.integrate import odeint\n",
    "import os\n",
    "import shutil\n",
    "import time"
   ]
  },
  {
   "cell_type": "code",
   "execution_count": 2,
   "metadata": {},
   "outputs": [],
   "source": [
    "backend = \"pytorch\""
   ]
  },
  {
   "cell_type": "code",
   "execution_count": 3,
   "metadata": {},
   "outputs": [
    {
     "name": "stdout",
     "output_type": "stream",
     "text": [
      "Set the default float type to float64\n",
      "Setting the default backend to \"pytorch\". You can change it in the ~/.deepxde/config.json file or export the DDE_BACKEND environment variable. Valid options are: tensorflow.compat.v1, tensorflow, pytorch, jax, paddle (all lowercase)\n"
     ]
    }
   ],
   "source": [
    "dde.config.set_default_float(\"float64\")\n",
    "dde.backend.set_default_backend(backend)"
   ]
  },
  {
   "cell_type": "code",
   "execution_count": 4,
   "metadata": {},
   "outputs": [],
   "source": [
    "max_time = 10\n",
    "num_rows = 200"
   ]
  },
  {
   "cell_type": "code",
   "execution_count": 5,
   "metadata": {},
   "outputs": [],
   "source": [
    "def to_npz(filepath, out_path, x_cols, y_cols):\n",
    "    df = pd.read_csv(filepath)\n",
    "    t = []\n",
    "    y = []\n",
    "    for _, v in df.iterrows():\n",
    "        t.append(v[x_cols].to_numpy())\n",
    "        y.append(v[y_cols].to_numpy())\n",
    "    np.savez(out_path, t=t, y=y)\n",
    "\n",
    "\n",
    "def load_training_data(data_path):\n",
    "    tr_data = np.load(data_path)\n",
    "    return tr_data['t'], tr_data['y']"
   ]
  },
  {
   "cell_type": "code",
   "execution_count": 6,
   "metadata": {},
   "outputs": [],
   "source": [
    "geom = dde.geometry.TimeDomain(0, max_time)\n",
    "\n",
    "\n",
    "# Helper function that is used to check whether a point is an initial point or not. This is only used by DeepXDE\n",
    "def boundary(_, on_initial):\n",
    "    return on_initial\n",
    "\n",
    "\n",
    "num_hidden_layers = 3\n",
    "hidden_layer_size = 128\n",
    "output_layer = 3\n",
    "\n",
    "layers = [1] + [hidden_layer_size] * num_hidden_layers + [output_layer]\n",
    "\n",
    "activation = ['tanh']*num_hidden_layers + ['tanh']\n",
    "\n",
    "iterations = 35_000\n",
    "optimizer = \"adam\"\n",
    "learning_rate = 1e-03"
   ]
  },
  {
   "cell_type": "code",
   "execution_count": 7,
   "metadata": {},
   "outputs": [],
   "source": [
    "model_num = 3 #TODO\n",
    "model_dir = 'binning_trials/models/model' + str(model_num)\n",
    "datafile = 'binning_trials/model' + str(model_num) + '.csv'\n",
    "os.makedirs(model_dir, exist_ok=True)"
   ]
  },
  {
   "cell_type": "code",
   "execution_count": 8,
   "metadata": {},
   "outputs": [],
   "source": [
    "#IMPORTS\n",
    "# from binning_trials.binned_models import *\n",
    "a1, a2, a3, a4 = [dde.Variable(np.float64(0)), dde.Variable(np.float64(0)), dde.Variable(np.float64(0)), dde.Variable(np.float64(0))]\n",
    "n, m = np.float64(3/1.35), np.float64(5/3)\n",
    "def equations(x, y):\n",
    "    # y = max(y, 0)\n",
    "    B1_35, B3, B5 = abs(y[:, 0:1]), abs(y[:, 1:2]), abs(y[:, 2:3])\n",
    "    # B1_35, B3, B5 = max(B1_35, 0), max(B3, 0), max(B5, 0)\n",
    "    # tf.print(x, output_stream=sys.stderr, summarize=10)\n",
    "\n",
    "    B1_35t = dde.grad.jacobian(y, x, i=0)\n",
    "    B3t = dde.grad.jacobian(y, x, i=1)\n",
    "    B5t = dde.grad.jacobian(y, x, i=2)\n",
    "    # print(B1_35)\n",
    "\n",
    "    # calculates residuals by subtracting right side from left side of each equation.\n",
    "    # Left side is calculated with respect to time, right side is calculated with the other species.\n",
    "    # Finding the correct constants to make residuals = 0; essentially residual = loss to be minimized.\n",
    "    r_b1_35 = B1_35t - (a1 * n * B3 - a2 * n * B1_35**n)\n",
    "    r_b3 = B3t - (a2 * B1_35**n - a1 * B3 + a3 * m * B5 - a4 * m * B3**m)\n",
    "    r_b5 = B5t - (a4 * B3**m - a3 * B5)\n",
    "\n",
    "\n",
    "    # print(r_b1_35)\n",
    "\n",
    "    # res = torch.cat([r_b1, r_b1p, r_bn, r_bnp, r_bm, r_bmp])\n",
    "    # diff = torch.cat([B1t, B1pt, Bnt, Bnpt, Bmt, Bmpt])\n",
    "    # pred = torch.cat([B1tp, B1ptp, Bntp, Bnptp, Bmtp, Bmptp])\n",
    "    # res2 = torch.where(pred < 0, res*100, res)\n",
    "    # # print(res[torch.ge(res, diff)])\n",
    "    #\n",
    "    # return torch.chunk(res, 6)\n",
    "\n",
    "    return [r_b1_35, r_b3, r_b5]\n",
    "initial_conditions = [2.71E-06,1.23E-05,3.55E-05]\n",
    "y_cols = ['1.35uM', '3uM', '5uM']\n",
    "\n"
   ]
  },
  {
   "cell_type": "code",
   "execution_count": 9,
   "metadata": {},
   "outputs": [
    {
     "data": {
      "text/plain": [
       "torch.float64"
      ]
     },
     "execution_count": 9,
     "metadata": {},
     "output_type": "execute_result"
    }
   ],
   "source": [
    "a1.dtype"
   ]
  },
  {
   "cell_type": "code",
   "execution_count": 10,
   "metadata": {},
   "outputs": [
    {
     "name": "stdout",
     "output_type": "stream",
     "text": [
      "Compiling model...\n"
     ]
    },
    {
     "name": "stderr",
     "output_type": "stream",
     "text": [
      "c:\\Users\\deba\\AppData\\Local\\Programs\\Python\\Python312\\Lib\\site-packages\\tqdm\\auto.py:21: TqdmWarning: IProgress not found. Please update jupyter and ipywidgets. See https://ipywidgets.readthedocs.io/en/stable/user_install.html\n",
      "  from .autonotebook import tqdm as notebook_tqdm\n"
     ]
    },
    {
     "name": "stdout",
     "output_type": "stream",
     "text": [
      "'compile' took 1.727382 s\n",
      "\n",
      "Warning: epochs is deprecated and will be removed in a future version. Use iterations instead.\n",
      "Training model...\n",
      "\n",
      "Step      Train loss                                                                Test loss                                                                 Test metric\n",
      "0         [7.90e-03, 4.79e-02, 1.12e-02, 7.34e-12, 1.51e-10, 1.25e+00, 1.40e-01]    [7.90e-03, 4.79e-02, 1.12e-02, 7.34e-12, 1.51e-10, 1.25e+00, 1.40e-01]    []  \n",
      "350       [1.49e-04, 6.16e-04, 5.23e-04, 5.99e-06, 1.53e-04, 5.14e-04, 1.05e-02]    [1.49e-04, 6.16e-04, 5.23e-04, 5.99e-06, 1.53e-04, 5.14e-04, 1.05e-02]    []  \n",
      "700       [1.45e-04, 1.06e-03, 3.31e-04, 5.76e-06, 1.60e-04, 3.60e-04, 9.73e-03]    [1.45e-04, 1.06e-03, 3.31e-04, 5.76e-06, 1.60e-04, 3.60e-04, 9.73e-03]    []  \n",
      "1050      [1.30e-04, 1.72e-03, 2.65e-04, 4.95e-06, 1.31e-04, 3.20e-04, 8.82e-03]    [1.30e-04, 1.72e-03, 2.65e-04, 4.95e-06, 1.31e-04, 3.20e-04, 8.82e-03]    []  \n",
      "1400      [1.30e-04, 2.03e-03, 2.42e-04, 4.95e-06, 1.19e-04, 2.93e-04, 8.34e-03]    [1.30e-04, 2.03e-03, 2.42e-04, 4.95e-06, 1.19e-04, 2.93e-04, 8.34e-03]    []  \n",
      "1750      [1.36e-04, 2.11e-03, 2.42e-04, 5.01e-06, 1.17e-04, 2.75e-04, 8.16e-03]    [1.36e-04, 2.11e-03, 2.42e-04, 5.01e-06, 1.17e-04, 2.75e-04, 8.16e-03]    []  \n",
      "2100      [1.36e-04, 2.25e-03, 3.00e-04, 4.83e-06, 1.02e-04, 2.81e-04, 8.03e-03]    [1.36e-04, 2.25e-03, 3.00e-04, 4.83e-06, 1.02e-04, 2.81e-04, 8.03e-03]    []  \n",
      "2450      [1.47e-04, 2.13e-03, 2.42e-04, 5.27e-06, 1.18e-04, 2.61e-04, 8.05e-03]    [1.47e-04, 2.13e-03, 2.42e-04, 5.27e-06, 1.18e-04, 2.61e-04, 8.05e-03]    []  \n",
      "2800      [1.58e-04, 2.06e-03, 2.49e-04, 5.54e-06, 1.24e-04, 2.52e-04, 8.02e-03]    [1.58e-04, 2.06e-03, 2.49e-04, 5.54e-06, 1.24e-04, 2.52e-04, 8.02e-03]    []  \n",
      "3150      [1.48e-04, 2.05e-03, 2.55e-04, 5.57e-06, 1.23e-04, 2.72e-04, 7.97e-03]    [1.48e-04, 2.05e-03, 2.55e-04, 5.57e-06, 1.23e-04, 2.72e-04, 7.97e-03]    []  \n",
      "3500      [1.57e-04, 2.00e-03, 2.79e-04, 5.78e-06, 1.25e-04, 2.56e-04, 7.94e-03]    [1.57e-04, 2.00e-03, 2.79e-04, 5.78e-06, 1.25e-04, 2.56e-04, 7.94e-03]    []  \n",
      "3850      [1.58e-04, 1.99e-03, 2.92e-04, 5.87e-06, 1.24e-04, 2.47e-04, 7.92e-03]    [1.58e-04, 1.99e-03, 2.92e-04, 5.87e-06, 1.24e-04, 2.47e-04, 7.92e-03]    []  \n",
      "4200      [1.27e-04, 2.41e-03, 6.64e-04, 7.27e-06, 1.04e-03, 4.51e-04, 7.40e-03]    [1.27e-04, 2.41e-03, 6.64e-04, 7.27e-06, 1.04e-03, 4.51e-04, 7.40e-03]    []  \n",
      "4550      [1.55e-04, 1.97e-03, 3.09e-04, 5.98e-06, 1.22e-04, 2.41e-04, 7.87e-03]    [1.55e-04, 1.97e-03, 3.09e-04, 5.98e-06, 1.22e-04, 2.41e-04, 7.87e-03]    []  \n",
      "4900      [1.98e-04, 1.95e-03, 3.26e-04, 4.47e-06, 1.25e-04, 3.02e-04, 7.85e-03]    [1.98e-04, 1.95e-03, 3.26e-04, 4.47e-06, 1.25e-04, 3.02e-04, 7.85e-03]    []  \n",
      "5250      [1.55e-04, 1.96e-03, 3.13e-04, 5.90e-06, 1.24e-04, 2.37e-04, 7.84e-03]    [1.55e-04, 1.96e-03, 3.13e-04, 5.90e-06, 1.24e-04, 2.37e-04, 7.84e-03]    []  \n",
      "5600      [1.58e-04, 1.96e-03, 3.16e-04, 5.94e-06, 1.23e-04, 2.30e-04, 7.84e-03]    [1.58e-04, 1.96e-03, 3.16e-04, 5.94e-06, 1.23e-04, 2.30e-04, 7.84e-03]    []  \n",
      "5950      [2.15e-04, 1.95e-03, 3.10e-04, 3.54e-06, 1.20e-04, 3.80e-04, 7.85e-03]    [2.15e-04, 1.95e-03, 3.10e-04, 3.54e-06, 1.20e-04, 3.80e-04, 7.85e-03]    []  \n",
      "6300      [1.61e-04, 1.97e-03, 3.23e-04, 5.76e-06, 1.29e-04, 2.21e-04, 7.82e-03]    [1.61e-04, 1.97e-03, 3.23e-04, 5.76e-06, 1.29e-04, 2.21e-04, 7.82e-03]    []  \n",
      "6650      [1.73e-04, 1.97e-03, 3.11e-04, 5.24e-06, 1.18e-04, 2.23e-04, 7.84e-03]    [1.73e-04, 1.97e-03, 3.11e-04, 5.24e-06, 1.18e-04, 2.23e-04, 7.84e-03]    []  \n",
      "7000      [1.63e-04, 2.01e-03, 3.07e-04, 5.84e-06, 1.04e-04, 2.16e-04, 7.83e-03]    [1.63e-04, 2.01e-03, 3.07e-04, 5.84e-06, 1.04e-04, 2.16e-04, 7.83e-03]    []  \n",
      "7350      [1.44e-04, 2.02e-03, 3.06e-04, 1.52e-05, 8.31e-05, 3.30e-04, 7.87e-03]    [1.44e-04, 2.02e-03, 3.06e-04, 1.52e-05, 8.31e-05, 3.30e-04, 7.87e-03]    []  \n",
      "7700      [1.67e-04, 1.99e-03, 3.11e-04, 4.29e-06, 1.70e-04, 2.14e-04, 7.95e-03]    [1.67e-04, 1.99e-03, 3.11e-04, 4.29e-06, 1.70e-04, 2.14e-04, 7.95e-03]    []  \n",
      "8050      [1.92e-04, 2.02e-03, 3.14e-04, 3.02e-06, 9.80e-05, 2.13e-04, 7.86e-03]    [1.92e-04, 2.02e-03, 3.14e-04, 3.02e-06, 9.80e-05, 2.13e-04, 7.86e-03]    []  \n",
      "8400      [1.65e-04, 2.05e-03, 3.09e-04, 2.01e-05, 3.94e-05, 3.45e-04, 8.14e-03]    [1.65e-04, 2.05e-03, 3.09e-04, 2.01e-05, 3.94e-05, 3.45e-04, 8.14e-03]    []  \n",
      "8750      [1.51e-04, 1.99e-03, 3.10e-04, 1.05e-05, 1.29e-04, 2.37e-04, 7.81e-03]    [1.51e-04, 1.99e-03, 3.10e-04, 1.05e-05, 1.29e-04, 2.37e-04, 7.81e-03]    []  \n",
      "9100      [1.74e-04, 1.97e-03, 3.17e-04, 4.80e-06, 1.34e-04, 1.99e-04, 7.81e-03]    [1.74e-04, 1.97e-03, 3.17e-04, 4.80e-06, 1.34e-04, 1.99e-04, 7.81e-03]    []  \n",
      "9450      [1.81e-04, 1.97e-03, 3.29e-04, 2.05e-06, 1.87e-04, 2.08e-04, 7.79e-03]    [1.81e-04, 1.97e-03, 3.29e-04, 2.05e-06, 1.87e-04, 2.08e-04, 7.79e-03]    []  \n",
      "9800      [2.12e-04, 2.02e-03, 3.90e-04, 6.97e-06, 1.84e-04, 2.36e-04, 7.73e-03]    [2.12e-04, 2.02e-03, 3.90e-04, 6.97e-06, 1.84e-04, 2.36e-04, 7.73e-03]    []  \n",
      "10150     [1.76e-04, 1.98e-03, 3.08e-04, 3.60e-06, 8.22e-05, 1.87e-04, 7.87e-03]    [1.76e-04, 1.98e-03, 3.08e-04, 3.60e-06, 8.22e-05, 1.87e-04, 7.87e-03]    []  \n",
      "10500     [1.80e-04, 2.08e-03, 3.35e-04, 1.97e-06, 7.99e-05, 1.96e-04, 7.87e-03]    [1.80e-04, 2.08e-03, 3.35e-04, 1.97e-06, 7.99e-05, 1.96e-04, 7.87e-03]    []  \n",
      "10850     [1.62e-04, 2.01e-03, 2.75e-04, 5.95e-06, 1.26e-04, 2.05e-04, 7.89e-03]    [1.62e-04, 2.01e-03, 2.75e-04, 5.95e-06, 1.26e-04, 2.05e-04, 7.89e-03]    []  \n",
      "11200     [1.63e-04, 2.01e-03, 2.82e-04, 6.01e-06, 1.26e-04, 1.97e-04, 7.86e-03]    [1.63e-04, 2.01e-03, 2.82e-04, 6.01e-06, 1.26e-04, 1.97e-04, 7.86e-03]    []  \n",
      "11550     [1.67e-04, 2.01e-03, 2.95e-04, 6.02e-06, 1.24e-04, 1.87e-04, 7.84e-03]    [1.67e-04, 2.01e-03, 2.95e-04, 6.02e-06, 1.24e-04, 1.87e-04, 7.84e-03]    []  \n",
      "11900     [1.68e-04, 2.00e-03, 3.13e-04, 6.13e-06, 1.21e-04, 1.83e-04, 7.80e-03]    [1.68e-04, 2.00e-03, 3.13e-04, 6.13e-06, 1.21e-04, 1.83e-04, 7.80e-03]    []  \n",
      "12250     [1.71e-04, 1.98e-03, 3.13e-04, 6.06e-06, 1.24e-04, 1.81e-04, 7.81e-03]    [1.71e-04, 1.98e-03, 3.13e-04, 6.06e-06, 1.24e-04, 1.81e-04, 7.81e-03]    []  \n",
      "12600     [1.73e-04, 1.98e-03, 3.13e-04, 6.05e-06, 1.24e-04, 1.77e-04, 7.81e-03]    [1.73e-04, 1.98e-03, 3.13e-04, 6.05e-06, 1.24e-04, 1.77e-04, 7.81e-03]    []  \n",
      "12950     [1.74e-04, 1.98e-03, 3.12e-04, 6.05e-06, 1.24e-04, 1.75e-04, 7.81e-03]    [1.74e-04, 1.98e-03, 3.12e-04, 6.05e-06, 1.24e-04, 1.75e-04, 7.81e-03]    []  \n",
      "13300     [1.76e-04, 1.98e-03, 3.14e-04, 6.03e-06, 1.24e-04, 1.73e-04, 7.81e-03]    [1.76e-04, 1.98e-03, 3.14e-04, 6.03e-06, 1.24e-04, 1.73e-04, 7.81e-03]    []  \n",
      "13650     [2.01e-04, 1.98e-03, 3.09e-04, 2.54e-06, 1.09e-04, 1.87e-04, 7.85e-03]    [2.01e-04, 1.98e-03, 3.09e-04, 2.54e-06, 1.09e-04, 1.87e-04, 7.85e-03]    []  \n",
      "14000     [1.72e-04, 1.98e-03, 3.16e-04, 7.62e-06, 1.24e-04, 1.76e-04, 7.80e-03]    [1.72e-04, 1.98e-03, 3.16e-04, 7.62e-06, 1.24e-04, 1.76e-04, 7.80e-03]    []  \n",
      "14350     [1.84e-04, 1.99e-03, 3.07e-04, 3.37e-06, 1.21e-04, 1.73e-04, 7.85e-03]    [1.84e-04, 1.99e-03, 3.07e-04, 3.37e-06, 1.21e-04, 1.73e-04, 7.85e-03]    []  \n",
      "14700     [1.74e-04, 1.97e-03, 3.18e-04, 6.34e-06, 1.40e-04, 1.73e-04, 7.80e-03]    [1.74e-04, 1.97e-03, 3.18e-04, 6.34e-06, 1.40e-04, 1.73e-04, 7.80e-03]    []  \n",
      "15050     [2.10e-04, 1.96e-03, 3.20e-04, 4.62e-06, 3.13e-05, 2.25e-04, 7.97e-03]    [2.10e-04, 1.96e-03, 3.20e-04, 4.62e-06, 3.13e-05, 2.25e-04, 7.97e-03]    []  \n",
      "15400     [1.78e-04, 1.98e-03, 3.14e-04, 5.09e-06, 1.12e-04, 1.72e-04, 7.82e-03]    [1.78e-04, 1.98e-03, 3.14e-04, 5.09e-06, 1.12e-04, 1.72e-04, 7.82e-03]    []  \n",
      "15750     [1.59e-04, 1.99e-03, 3.11e-04, 9.25e-06, 1.09e-04, 2.30e-04, 7.82e-03]    [1.59e-04, 1.99e-03, 3.11e-04, 9.25e-06, 1.09e-04, 2.30e-04, 7.82e-03]    []  \n",
      "16100     [1.92e-04, 1.98e-03, 3.15e-04, 5.24e-06, 8.08e-05, 1.71e-04, 7.85e-03]    [1.92e-04, 1.98e-03, 3.15e-04, 5.24e-06, 8.08e-05, 1.71e-04, 7.85e-03]    []  \n",
      "16450     [3.28e-04, 2.04e-03, 2.77e-04, 2.72e-05, 1.84e-04, 5.75e-04, 8.02e-03]    [3.28e-04, 2.04e-03, 2.77e-04, 2.72e-05, 1.84e-04, 5.75e-04, 8.02e-03]    []  \n",
      "16800     [1.58e-04, 2.00e-03, 2.73e-04, 5.94e-06, 1.27e-04, 2.11e-04, 7.90e-03]    [1.58e-04, 2.00e-03, 2.73e-04, 5.94e-06, 1.27e-04, 2.11e-04, 7.90e-03]    []  \n",
      "17150     [1.62e-04, 2.01e-03, 2.88e-04, 5.97e-06, 1.25e-04, 1.95e-04, 7.85e-03]    [1.62e-04, 2.01e-03, 2.88e-04, 5.97e-06, 1.25e-04, 1.95e-04, 7.85e-03]    []  \n",
      "17500     [1.66e-04, 2.00e-03, 3.05e-04, 6.04e-06, 1.22e-04, 1.86e-04, 7.81e-03]    [1.66e-04, 2.00e-03, 3.05e-04, 6.04e-06, 1.22e-04, 1.86e-04, 7.81e-03]    []  \n",
      "17850     [1.68e-04, 1.98e-03, 3.15e-04, 5.66e-06, 1.18e-04, 1.85e-04, 7.81e-03]    [1.68e-04, 1.98e-03, 3.15e-04, 5.66e-06, 1.18e-04, 1.85e-04, 7.81e-03]    []  \n",
      "18200     [1.71e-04, 1.98e-03, 3.16e-04, 5.97e-06, 1.24e-04, 1.79e-04, 7.80e-03]    [1.71e-04, 1.98e-03, 3.16e-04, 5.97e-06, 1.24e-04, 1.79e-04, 7.80e-03]    []  \n",
      "18550     [1.74e-04, 1.98e-03, 3.17e-04, 5.97e-06, 1.24e-04, 1.75e-04, 7.80e-03]    [1.74e-04, 1.98e-03, 3.17e-04, 5.97e-06, 1.24e-04, 1.75e-04, 7.80e-03]    []  \n",
      "18900     [1.76e-04, 1.97e-03, 3.17e-04, 6.02e-06, 1.24e-04, 1.73e-04, 7.80e-03]    [1.76e-04, 1.97e-03, 3.17e-04, 6.02e-06, 1.24e-04, 1.73e-04, 7.80e-03]    []  \n",
      "19250     [1.63e-04, 1.99e-03, 3.06e-04, 7.90e-06, 1.25e-04, 2.02e-04, 7.81e-03]    [1.63e-04, 1.99e-03, 3.06e-04, 7.90e-06, 1.25e-04, 2.02e-04, 7.81e-03]    []  \n",
      "19600     [1.75e-04, 1.99e-03, 3.22e-04, 7.97e-06, 1.89e-04, 1.75e-04, 7.82e-03]    [1.75e-04, 1.99e-03, 3.22e-04, 7.97e-06, 1.89e-04, 1.75e-04, 7.82e-03]    []  \n",
      "19950     [1.82e-04, 1.97e-03, 3.19e-04, 5.31e-06, 1.27e-04, 1.71e-04, 7.80e-03]    [1.82e-04, 1.97e-03, 3.19e-04, 5.31e-06, 1.27e-04, 1.71e-04, 7.80e-03]    []  \n",
      "20300     [1.81e-04, 1.97e-03, 3.25e-04, 5.66e-06, 9.41e-05, 1.70e-04, 7.88e-03]    [1.81e-04, 1.97e-03, 3.25e-04, 5.66e-06, 9.41e-05, 1.70e-04, 7.88e-03]    []  \n",
      "20650     [1.79e-04, 1.97e-03, 3.18e-04, 5.53e-06, 1.19e-04, 1.70e-04, 7.81e-03]    [1.79e-04, 1.97e-03, 3.18e-04, 5.53e-06, 1.19e-04, 1.70e-04, 7.81e-03]    []  \n",
      "21000     [1.62e-04, 1.98e-03, 3.23e-04, 1.25e-05, 1.60e-04, 2.05e-04, 7.77e-03]    [1.62e-04, 1.98e-03, 3.23e-04, 1.25e-05, 1.60e-04, 2.05e-04, 7.77e-03]    []  \n",
      "21350     [1.81e-04, 1.97e-03, 3.18e-04, 5.32e-06, 1.16e-04, 1.69e-04, 7.81e-03]    [1.81e-04, 1.97e-03, 3.18e-04, 5.32e-06, 1.16e-04, 1.69e-04, 7.81e-03]    []  \n",
      "21700     [1.83e-04, 1.97e-03, 3.17e-04, 4.76e-06, 1.14e-04, 1.70e-04, 7.81e-03]    [1.83e-04, 1.97e-03, 3.17e-04, 4.76e-06, 1.14e-04, 1.70e-04, 7.81e-03]    []  \n",
      "22050     [1.77e-04, 1.98e-03, 3.15e-04, 6.64e-06, 1.47e-04, 1.70e-04, 7.78e-03]    [1.77e-04, 1.98e-03, 3.15e-04, 6.64e-06, 1.47e-04, 1.70e-04, 7.78e-03]    []  \n",
      "22400     [1.96e-04, 1.97e-03, 3.22e-04, 6.19e-07, 2.78e-06, 1.77e-04, 8.12e-03]    [1.96e-04, 1.97e-03, 3.22e-04, 6.19e-07, 2.78e-06, 1.77e-04, 8.12e-03]    []  \n",
      "22750     [1.77e-04, 1.98e-03, 3.20e-04, 6.51e-06, 1.52e-04, 1.70e-04, 7.77e-03]    [1.77e-04, 1.98e-03, 3.20e-04, 6.51e-06, 1.52e-04, 1.70e-04, 7.77e-03]    []  \n",
      "23100     [2.04e-04, 1.96e-03, 3.16e-04, 1.29e-06, 7.22e-05, 1.94e-04, 7.87e-03]    [2.04e-04, 1.96e-03, 3.16e-04, 1.29e-06, 7.22e-05, 1.94e-04, 7.87e-03]    []  \n",
      "23450     [1.76e-04, 1.99e-03, 3.10e-04, 5.36e-06, 1.07e-04, 1.76e-04, 7.83e-03]    [1.76e-04, 1.99e-03, 3.10e-04, 5.36e-06, 1.07e-04, 1.76e-04, 7.83e-03]    []  \n",
      "23800     [1.98e-04, 2.07e-03, 2.91e-04, 4.09e-05, 1.82e-04, 1.94e-04, 7.71e-03]    [1.98e-04, 2.07e-03, 2.91e-04, 4.09e-05, 1.82e-04, 1.94e-04, 7.71e-03]    []  \n",
      "24150     [1.71e-04, 1.98e-03, 3.21e-04, 7.91e-06, 1.46e-04, 1.76e-04, 7.77e-03]    [1.71e-04, 1.98e-03, 3.21e-04, 7.91e-06, 1.46e-04, 1.76e-04, 7.77e-03]    []  \n",
      "24500     [1.68e-04, 1.99e-03, 3.27e-04, 6.22e-06, 1.07e-04, 2.04e-04, 7.80e-03]    [1.68e-04, 1.99e-03, 3.27e-04, 6.22e-06, 1.07e-04, 2.04e-04, 7.80e-03]    []  \n",
      "24850     [1.67e-04, 2.00e-03, 3.15e-04, 9.01e-06, 9.97e-05, 1.98e-04, 7.81e-03]    [1.67e-04, 2.00e-03, 3.15e-04, 9.01e-06, 9.97e-05, 1.98e-04, 7.81e-03]    []  \n",
      "25200     [1.63e-04, 1.99e-03, 3.04e-04, 6.08e-06, 1.22e-04, 2.00e-04, 7.83e-03]    [1.63e-04, 1.99e-03, 3.04e-04, 6.08e-06, 1.22e-04, 2.00e-04, 7.83e-03]    []  \n",
      "25550     [1.63e-04, 1.98e-03, 3.17e-04, 5.98e-06, 1.23e-04, 1.90e-04, 7.80e-03]    [1.63e-04, 1.98e-03, 3.17e-04, 5.98e-06, 1.23e-04, 1.90e-04, 7.80e-03]    []  \n",
      "25900     [1.69e-04, 1.98e-03, 3.16e-04, 5.98e-06, 1.24e-04, 1.81e-04, 7.80e-03]    [1.69e-04, 1.98e-03, 3.16e-04, 5.98e-06, 1.24e-04, 1.81e-04, 7.80e-03]    []  \n",
      "26250     [1.73e-04, 1.98e-03, 3.16e-04, 5.98e-06, 1.24e-04, 1.77e-04, 7.80e-03]    [1.73e-04, 1.98e-03, 3.16e-04, 5.98e-06, 1.24e-04, 1.77e-04, 7.80e-03]    []  \n",
      "26600     [1.73e-04, 1.98e-03, 3.16e-04, 6.54e-06, 1.24e-04, 1.75e-04, 7.80e-03]    [1.73e-04, 1.98e-03, 3.16e-04, 6.54e-06, 1.24e-04, 1.75e-04, 7.80e-03]    []  \n",
      "26950     [1.76e-04, 1.98e-03, 3.18e-04, 5.95e-06, 1.23e-04, 1.73e-04, 7.80e-03]    [1.76e-04, 1.98e-03, 3.18e-04, 5.95e-06, 1.23e-04, 1.73e-04, 7.80e-03]    []  \n",
      "27300     [2.13e-04, 1.97e-03, 3.08e-04, 1.62e-08, 9.96e-05, 2.42e-04, 7.83e-03]    [2.13e-04, 1.97e-03, 3.08e-04, 1.62e-08, 9.96e-05, 2.42e-04, 7.83e-03]    []  \n",
      "27650     [1.77e-04, 1.97e-03, 3.18e-04, 5.93e-06, 1.23e-04, 1.72e-04, 7.80e-03]    [1.77e-04, 1.97e-03, 3.18e-04, 5.93e-06, 1.23e-04, 1.72e-04, 7.80e-03]    []  \n",
      "28000     [1.72e-04, 1.97e-03, 3.23e-04, 9.48e-06, 1.10e-04, 1.76e-04, 7.82e-03]    [1.72e-04, 1.97e-03, 3.23e-04, 9.48e-06, 1.10e-04, 1.76e-04, 7.82e-03]    []  \n",
      "28350     [1.77e-04, 1.98e-03, 3.15e-04, 4.67e-06, 1.12e-04, 1.73e-04, 7.81e-03]    [1.77e-04, 1.98e-03, 3.15e-04, 4.67e-06, 1.12e-04, 1.73e-04, 7.81e-03]    []  \n",
      "28700     [1.71e-04, 1.97e-03, 3.23e-04, 9.87e-06, 1.39e-04, 1.74e-04, 7.78e-03]    [1.71e-04, 1.97e-03, 3.23e-04, 9.87e-06, 1.39e-04, 1.74e-04, 7.78e-03]    []  \n",
      "29050     [1.92e-04, 1.96e-03, 3.17e-04, 5.11e-07, 8.61e-05, 1.83e-04, 7.85e-03]    [1.92e-04, 1.96e-03, 3.17e-04, 5.11e-07, 8.61e-05, 1.83e-04, 7.85e-03]    []  \n",
      "29400     [1.78e-04, 1.97e-03, 3.20e-04, 5.34e-06, 1.25e-04, 1.71e-04, 7.79e-03]    [1.78e-04, 1.97e-03, 3.20e-04, 5.34e-06, 1.25e-04, 1.71e-04, 7.79e-03]    []  \n",
      "29750     [1.82e-04, 1.98e-03, 3.19e-04, 6.83e-06, 1.30e-04, 1.70e-04, 7.79e-03]    [1.82e-04, 1.98e-03, 3.19e-04, 6.83e-06, 1.30e-04, 1.70e-04, 7.79e-03]    []  \n",
      "30100     [1.70e-04, 1.97e-03, 3.18e-04, 2.00e-05, 2.19e-04, 1.66e-04, 7.73e-03]    [1.70e-04, 1.97e-03, 3.18e-04, 2.00e-05, 2.19e-04, 1.66e-04, 7.73e-03]    []  \n",
      "30450     [1.84e-04, 1.98e-03, 3.13e-04, 7.21e-06, 1.36e-04, 1.74e-04, 7.79e-03]    [1.84e-04, 1.98e-03, 3.13e-04, 7.21e-06, 1.36e-04, 1.74e-04, 7.79e-03]    []  \n",
      "30800     [1.79e-04, 1.98e-03, 3.18e-04, 1.24e-05, 1.72e-04, 1.69e-04, 7.76e-03]    [1.79e-04, 1.98e-03, 3.18e-04, 1.24e-05, 1.72e-04, 1.69e-04, 7.76e-03]    []  \n",
      "31150     [2.11e-04, 1.98e-03, 3.33e-04, 4.62e-06, 1.40e-04, 2.24e-04, 7.77e-03]    [2.11e-04, 1.98e-03, 3.33e-04, 4.62e-06, 1.40e-04, 2.24e-04, 7.77e-03]    []  \n",
      "31500     [1.82e-04, 1.97e-03, 3.17e-04, 5.24e-06, 1.28e-04, 1.72e-04, 7.80e-03]    [1.82e-04, 1.97e-03, 3.17e-04, 5.24e-06, 1.28e-04, 1.72e-04, 7.80e-03]    []  \n",
      "31850     [1.77e-04, 1.98e-03, 3.18e-04, 5.95e-06, 1.23e-04, 1.72e-04, 7.80e-03]    [1.77e-04, 1.98e-03, 3.18e-04, 5.95e-06, 1.23e-04, 1.72e-04, 7.80e-03]    []  \n",
      "32200     [1.82e-04, 1.98e-03, 3.21e-04, 1.88e-06, 8.15e-05, 1.75e-04, 7.84e-03]    [1.82e-04, 1.98e-03, 3.21e-04, 1.88e-06, 8.15e-05, 1.75e-04, 7.84e-03]    []  \n",
      "32550     [2.07e-04, 1.95e-03, 3.29e-04, 3.75e-07, 1.13e-04, 2.22e-04, 7.84e-03]    [2.07e-04, 1.95e-03, 3.29e-04, 3.75e-07, 1.13e-04, 2.22e-04, 7.84e-03]    []  \n",
      "32900     [1.90e-03, 2.05e-03, 3.39e-04, 5.47e-04, 3.22e-04, 1.89e-02, 8.66e-03]    [1.90e-03, 2.05e-03, 3.39e-04, 5.47e-04, 3.22e-04, 1.89e-02, 8.66e-03]    []  \n",
      "33250     [1.65e-04, 1.98e-03, 3.17e-04, 6.07e-06, 1.22e-04, 1.90e-04, 7.80e-03]    [1.65e-04, 1.98e-03, 3.17e-04, 6.07e-06, 1.22e-04, 1.90e-04, 7.80e-03]    []  \n",
      "33600     [1.69e-04, 1.98e-03, 3.17e-04, 5.99e-06, 1.23e-04, 1.82e-04, 7.80e-03]    [1.69e-04, 1.98e-03, 3.17e-04, 5.99e-06, 1.23e-04, 1.82e-04, 7.80e-03]    []  \n",
      "33950     [1.73e-04, 1.98e-03, 3.17e-04, 5.99e-06, 1.23e-04, 1.77e-04, 7.80e-03]    [1.73e-04, 1.98e-03, 3.17e-04, 5.99e-06, 1.23e-04, 1.77e-04, 7.80e-03]    []  \n",
      "34300     [1.75e-04, 1.98e-03, 3.18e-04, 5.97e-06, 1.23e-04, 1.73e-04, 7.80e-03]    [1.75e-04, 1.98e-03, 3.18e-04, 5.97e-06, 1.23e-04, 1.73e-04, 7.80e-03]    []  \n",
      "34650     [1.77e-04, 1.98e-03, 3.18e-04, 5.98e-06, 1.23e-04, 1.71e-04, 7.80e-03]    [1.77e-04, 1.98e-03, 3.18e-04, 5.98e-06, 1.23e-04, 1.71e-04, 7.80e-03]    []  \n",
      "35000     [1.77e-04, 1.98e-03, 3.18e-04, 6.02e-06, 1.23e-04, 1.70e-04, 7.80e-03]    [1.77e-04, 1.98e-03, 3.18e-04, 6.02e-06, 1.23e-04, 1.70e-04, 7.80e-03]    []  \n",
      "\n",
      "Best model at step 31850:\n",
      "  train loss: 1.06e-02\n",
      "  test loss: 1.06e-02\n",
      "  test metric: []\n",
      "\n",
      "'train' took 723.498043 s\n",
      "\n",
      "Saving loss history to binning_trials/models/model3\\loss.dat ...\n",
      "Saving training data to binning_trials/models/model3\\train.dat ...\n",
      "Saving test data to binning_trials/models/model3\\test.dat ...\n"
     ]
    },
    {
     "data": {
      "image/png": "[encoded data removed]",
      "text/plain": [
       "<Figure size 640x480 with 1 Axes>"
      ]
     },
     "metadata": {},
     "output_type": "display_data"
    },
    {
     "data": {
      "image/png": "[encoded data removed]",
      "text/plain": [
       "<Figure size 640x480 with 1 Axes>"
      ]
     },
     "metadata": {},
     "output_type": "display_data"
    }
   ],
   "source": [
    "variable = dde.callbacks.VariableValue(\n",
    "    [a1, a2, a3, a4],\n",
    "    period=(iterations//100 if iterations > 99 else 1),\n",
    "    filename=model_dir+'/variables.dat')\n",
    "\n",
    "start = time.time()\n",
    "\n",
    "to_npz(datafile, 'model1.npz', x_cols=['t'], y_cols=y_cols)\n",
    "ob_t, ob_y = load_training_data('model1.npz')\n",
    "# print(ob_y1.values, ob_y2.values, ob_y3.values)\n",
    "ic1 = dde.icbc.IC(geom, lambda X: initial_conditions[0], boundary, component=0)\n",
    "ic2 = dde.icbc.IC(geom, lambda X: initial_conditions[1], boundary, component=1)\n",
    "\n",
    "ob_y1 = dde.icbc.PointSetBC(ob_t, ob_y[:, 0:1], component=0)\n",
    "ob_y2 = dde.icbc.PointSetBC(ob_t, ob_y[:, 1:2], component=1)\n",
    "\n",
    "data = dde.data.PDE(\n",
    "    geom,\n",
    "    equations,\n",
    "    [ic1, ic2, ob_y1, ob_y2],\n",
    "    num_domain=200, #TODO\n",
    "    num_boundary=1, #TODO\n",
    "    anchors=ob_t\n",
    ")\n",
    "\n",
    "network = dde.nn.FNN(layers, activation, 'Glorot uniform')\n",
    "model = dde.Model(data, network)\n",
    "\n",
    "model.compile(optimizer, lr=learning_rate, external_trainable_variables=[a1, a2, a3, a4])\n",
    "\n",
    "loss_history, train_state = model.train(\n",
    "    epochs=iterations, callbacks=[variable], display_every=\n",
    "    (iterations // 100 if iterations > 99 else 1)\n",
    "    ,\n",
    "    disregard_previous_best=True\n",
    ")\n",
    "\n",
    "\n",
    "dde.saveplot(loss_history, train_state, issave=True, isplot=False, output_dir=f'{model_dir}')\n",
    "dde.utils.external.plot_loss_history(loss_history,\n",
    "                                     fname=f'{model_dir}/loss_history'\n",
    "                                     )\n",
    "dde.utils.external.plot_best_state(train_state,\n",
    "                                   fname=f'{model_dir}/train_state'\n",
    "                                   )\n",
    "\n",
    "pred = model.predict(ob_t, operator=equations)\n",
    "model.save(f'{model_dir}/nonneg_constr')\n",
    "\n",
    "with open(f'{model_dir}/info.dat', 'x') as f:\n",
    "\n",
    "    lines = [\n",
    "        f'training time: {time.time() - start}\\n',\n",
    "        f'residual: {np.mean(np.absolute(pred))}\\n'\n",
    "        f'best model at: {train_state.best_step}\\n'\n",
    "        f'train loss: {train_state.best_loss_train}\\n'\n",
    "    ]\n",
    "\n",
    "    f.writelines(lines)\n"
   ]
  },
  {
   "cell_type": "code",
   "execution_count": null,
   "metadata": {},
   "outputs": [],
   "source": []
  }
 ],
 "metadata": {
  "kernelspec": {
   "display_name": "Python 3",
   "language": "python",
   "name": "python3"
  },
  "language_info": {
   "codemirror_mode": {
    "name": "ipython",
    "version": 3
   },
   "file_extension": ".py",
   "mimetype": "text/x-python",
   "name": "python",
   "nbconvert_exporter": "python",
   "pygments_lexer": "ipython3",
   "version": "3.12.10"
  }
 },
 "nbformat": 4,
 "nbformat_minor": 2
}
