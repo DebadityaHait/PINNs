{
 "cells": [
  {
   "cell_type": "code",
   "execution_count": 1,
   "metadata": {},
   "outputs": [],
   "source": [
    "import sys\n",
    "sys.path.append('../src')  # Add src directory to path\n"
   ]
  },
  {
   "cell_type": "code",
   "execution_count": 2,
   "metadata": {},
   "outputs": [
    {
     "name": "stderr",
     "output_type": "stream",
     "text": [
      "Using backend: pytorch\n",
      "Other supported backends: tensorflow.compat.v1, tensorflow, jax, paddle.\n",
      "paddle supports more examples now and is recommended.\n",
      "c:\\Users\\deba\\AppData\\Local\\Programs\\Python\\Python312\\Lib\\site-packages\\torch\\__init__.py:1240: UserWarning: torch.set_default_tensor_type() is deprecated as of PyTorch 2.1, please use torch.set_default_dtype() and torch.set_default_device() as alternatives. (Triggered internally at C:\\actions-runner\\_work\\pytorch\\pytorch\\pytorch\\torch\\csrc\\tensor\\python_tensor.cpp:436.)\n",
      "  _C._set_default_tensor_type(t)\n"
     ]
    }
   ],
   "source": [
    "import torch\n",
    "import sys\n",
    "\n",
    "# Add the src directory to the Python path\n",
    "sys.path.append('../src')\n",
    "\n",
    "# assert torch.cuda.is_available()\n",
    "\n",
    "from deepxdeAbeta import deepxde as dde\n",
    "\n",
    "import numpy as np\n",
    "import matplotlib.pyplot as plt\n",
    "import pandas as pd\n",
    "from scipy.integrate import odeint\n",
    "import os\n",
    "import shutil\n",
    "import time"
   ]
  },
  {
   "cell_type": "code",
   "execution_count": 3,
   "metadata": {},
   "outputs": [],
   "source": [
    "backend = \"pytorch\""
   ]
  },
  {
   "cell_type": "code",
   "execution_count": 4,
   "metadata": {},
   "outputs": [
    {
     "name": "stdout",
     "output_type": "stream",
     "text": [
      "Set the default float type to float64\n",
      "Setting the default backend to \"pytorch\". You can change it in the ~/.deepxde/config.json file or export the DDE_BACKEND environment variable. Valid options are: tensorflow.compat.v1, tensorflow, pytorch, jax, paddle (all lowercase)\n"
     ]
    }
   ],
   "source": [
    "dde.config.set_default_float(\"float64\")\n",
    "dde.backend.set_default_backend(backend)"
   ]
  },
  {
   "cell_type": "code",
   "execution_count": 5,
   "metadata": {},
   "outputs": [],
   "source": [
    "max_time = 10\n",
    "num_rows = 200"
   ]
  },
  {
   "cell_type": "code",
   "execution_count": 6,
   "metadata": {},
   "outputs": [],
   "source": [
    "def to_npz(filepath, out_path, x_cols, y_cols):\n",
    "    df = pd.read_csv(filepath)\n",
    "    t = []\n",
    "    y = []\n",
    "    for _, v in df.iterrows():\n",
    "        t.append(v[x_cols].to_numpy())\n",
    "        y.append(v[y_cols].to_numpy())\n",
    "    np.savez(out_path, t=t, y=y)\n",
    "\n",
    "\n",
    "def load_training_data(data_path):\n",
    "    tr_data = np.load(data_path)\n",
    "    return tr_data['t'], tr_data['y']"
   ]
  },
  {
   "cell_type": "code",
   "execution_count": 7,
   "metadata": {},
   "outputs": [],
   "source": [
    "geom = dde.geometry.TimeDomain(0, max_time)\n",
    "\n",
    "\n",
    "# Helper function that is used to check whether a point is an initial point or not. This is only used by DeepXDE\n",
    "def boundary(_, on_initial):\n",
    "    return on_initial\n",
    "\n",
    "\n",
    "num_hidden_layers = 3\n",
    "hidden_layer_size = 128\n",
    "output_layer = 3\n",
    "\n",
    "layers = [1] + [hidden_layer_size] * num_hidden_layers + [output_layer]\n",
    "\n",
    "activation = ['tanh']*num_hidden_layers + ['tanh']\n",
    "\n",
    "iterations = 35_000\n",
    "optimizer = \"adam\"\n",
    "learning_rate = 1e-03"
   ]
  },
  {
   "cell_type": "code",
   "execution_count": 8,
   "metadata": {},
   "outputs": [],
   "source": [
    "model_num = 2 #TODO\n",
    "model_dir = '../results/models/model' + str(model_num)\n",
    "datafile = '../data/model' + str(model_num) + '.csv'\n",
    "os.makedirs(model_dir, exist_ok=True)"
   ]
  },
  {
   "cell_type": "code",
   "execution_count": 9,
   "metadata": {},
   "outputs": [],
   "source": [
    "#IMPORTS\n",
    "# from binning_trials.binned_models import *\n",
    "a1, a2, a3, a4 = [dde.Variable(np.float64(0)), dde.Variable(np.float64(0)), dde.Variable(np.float64(0)), dde.Variable(np.float64(0))]\n",
    "n, m = np.float64(1.7), np.float64(4/1.7)\n",
    "def equations(x, y):\n",
    "    # print(y)\n",
    "    B1, B1_7, B4 = abs(y[:, 0:1]), abs(y[:, 1:2]), abs(y[:, 2:3])\n",
    "    # tf.print(x, output_stream=sys.stderr, summarize=10)\n",
    "\n",
    "    B1t = dde.grad.jacobian(y, x, i=0)\n",
    "    B1_7t = dde.grad.jacobian(y, x, i=1)\n",
    "    B4t = dde.grad.jacobian(y, x, i=2)\n",
    "    # print(B1_35)\n",
    "\n",
    "    # calculates residuals by subtracting right side from left side of each equation.\n",
    "    # Left side is calculated with respect to time, right side is calculated with the other species.\n",
    "    # Finding the correct constants to make residuals = 0; essentially residual = loss to be minimized.\n",
    "    r_b1 = B1t - (a1 * n * B1_7 - a2 * n * B1**n)\n",
    "    r_b1_7 = B1_7t - (a2 * B1**n - a1 * B1_7 + a3 * m * B4 - a4 * m * B1_7**m)\n",
    "    r_b4 = B4t - (a4 * B1_7**m - a3 * B4)\n",
    "\n",
    "\n",
    "    # print(r_b1_35)\n",
    "\n",
    "    # res = torch.cat([r_b1, r_b1p, r_bn, r_bnp, r_bm, r_bmp])\n",
    "    # diff = torch.cat([B1t, B1pt, Bnt, Bnpt, Bmt, Bmpt])\n",
    "    # pred = torch.cat([B1tp, B1ptp, Bntp, Bnptp, Bmtp, Bmptp])\n",
    "    # res2 = torch.where(pred < 0, res*100, res)\n",
    "    # # print(res[torch.ge(res, diff)])\n",
    "    #\n",
    "    # return torch.chunk(res, 6)\n",
    "\n",
    "    return [r_b1, r_b1_7, r_b4]\n",
    "initial_conditions = [1.39E-06,4.04E-06,2.39E-05]\n",
    "y_cols = ['1uM', '1.7uM', '4uM']\n",
    "\n"
   ]
  },
  {
   "cell_type": "code",
   "execution_count": 10,
   "metadata": {},
   "outputs": [
    {
     "data": {
      "text/plain": [
       "torch.float64"
      ]
     },
     "execution_count": 10,
     "metadata": {},
     "output_type": "execute_result"
    }
   ],
   "source": [
    "a1.dtype"
   ]
  },
  {
   "cell_type": "code",
   "execution_count": 11,
   "metadata": {},
   "outputs": [
    {
     "name": "stdout",
     "output_type": "stream",
     "text": [
      "Compiling model...\n",
      "'compile' took 2.105327 s\n",
      "\n",
      "Warning: epochs is deprecated and will be removed in a future version. Use iterations instead.\n",
      "Training model...\n",
      "\n",
      "Step      Train loss                                                                Test loss                                                                 Test metric\n",
      "0         [1.03e-03, 3.21e-03, 1.29e-03, 1.93e-12, 1.63e-11, 5.26e-01, 1.14e+00]    [1.03e-03, 3.21e-03, 1.29e-03, 1.93e-12, 1.63e-11, 5.26e-01, 1.14e+00]    []  \n",
      "350       [7.67e-04, 2.80e-03, 1.83e-04, 5.19e-07, 1.00e-04, 3.29e-03, 3.11e-03]    [7.67e-04, 2.80e-03, 1.83e-04, 5.19e-07, 1.00e-04, 3.29e-03, 3.11e-03]    []  \n",
      "700       [7.75e-04, 2.59e-03, 3.43e-04, 9.20e-07, 1.18e-04, 2.50e-03, 2.79e-03]    [7.75e-04, 2.59e-03, 3.43e-04, 9.20e-07, 1.18e-04, 2.50e-03, 2.79e-03]    []  \n",
      "1050      [1.06e-03, 1.76e-03, 8.30e-04, 7.53e-07, 9.66e-05, 2.07e-03, 2.71e-03]    [1.06e-03, 1.76e-03, 8.30e-04, 7.53e-07, 9.66e-05, 2.07e-03, 2.71e-03]    []  \n",
      "1400      [9.58e-04, 1.91e-03, 8.58e-04, 8.86e-07, 6.91e-05, 1.73e-03, 1.84e-03]    [9.58e-04, 1.91e-03, 8.58e-04, 8.86e-07, 6.91e-05, 1.73e-03, 1.84e-03]    []  \n",
      "1750      [1.06e-03, 1.75e-03, 1.29e-03, 3.81e-08, 4.27e-05, 1.51e-03, 1.70e-03]    [1.06e-03, 1.75e-03, 1.29e-03, 3.81e-08, 4.27e-05, 1.51e-03, 1.70e-03]    []  \n",
      "2100      [1.01e-03, 1.35e-03, 1.04e-03, 1.18e-06, 6.08e-05, 1.17e-03, 1.18e-03]    [1.01e-03, 1.35e-03, 1.04e-03, 1.18e-06, 6.08e-05, 1.17e-03, 1.18e-03]    []  \n",
      "2450      [1.10e-03, 1.90e-03, 1.81e-03, 2.06e-06, 1.90e-05, 1.05e-03, 1.19e-03]    [1.10e-03, 1.90e-03, 1.81e-03, 2.06e-06, 1.90e-05, 1.05e-03, 1.19e-03]    []  \n",
      "2800      [9.88e-04, 9.70e-04, 1.06e-03, 7.97e-07, 4.46e-05, 1.02e-03, 8.60e-04]    [9.88e-04, 9.70e-04, 1.06e-03, 7.97e-07, 4.46e-05, 1.02e-03, 8.60e-04]    []  \n",
      "3150      [9.73e-04, 8.45e-04, 1.05e-03, 7.62e-07, 3.80e-05, 1.00e-03, 7.61e-04]    [9.73e-04, 8.45e-04, 1.05e-03, 7.62e-07, 3.80e-05, 1.00e-03, 7.61e-04]    []  \n",
      "3500      [9.55e-04, 7.46e-04, 1.02e-03, 7.62e-07, 3.37e-05, 9.79e-04, 6.87e-04]    [9.55e-04, 7.46e-04, 1.02e-03, 7.62e-07, 3.37e-05, 9.79e-04, 6.87e-04]    []  \n",
      "3850      [9.45e-04, 6.67e-04, 1.00e-03, 7.30e-07, 2.96e-05, 9.67e-04, 6.26e-04]    [9.45e-04, 6.67e-04, 1.00e-03, 7.30e-07, 2.96e-05, 9.67e-04, 6.26e-04]    []  \n",
      "4200      [9.37e-04, 6.14e-04, 9.75e-04, 7.37e-07, 2.71e-05, 9.54e-04, 5.87e-04]    [9.37e-04, 6.14e-04, 9.75e-04, 7.37e-07, 2.71e-05, 9.54e-04, 5.87e-04]    []  \n",
      "4550      [9.28e-04, 5.53e-04, 9.41e-04, 7.06e-07, 2.39e-05, 9.52e-04, 5.37e-04]    [9.28e-04, 5.53e-04, 9.41e-04, 7.06e-07, 2.39e-05, 9.52e-04, 5.37e-04]    []  \n",
      "4900      [9.23e-04, 5.10e-04, 9.14e-04, 6.98e-07, 2.17e-05, 9.41e-04, 5.04e-04]    [9.23e-04, 5.10e-04, 9.14e-04, 6.98e-07, 2.17e-05, 9.41e-04, 5.04e-04]    []  \n",
      "5250      [9.15e-04, 4.43e-04, 9.19e-04, 8.16e-07, 1.75e-05, 9.39e-04, 4.69e-04]    [9.15e-04, 4.43e-04, 9.19e-04, 8.16e-07, 1.75e-05, 9.39e-04, 4.69e-04]    []  \n",
      "5600      [9.11e-04, 4.33e-04, 8.49e-04, 6.78e-07, 1.78e-05, 9.32e-04, 4.41e-04]    [9.11e-04, 4.33e-04, 8.49e-04, 6.78e-07, 1.78e-05, 9.32e-04, 4.41e-04]    []  \n",
      "5950      [9.86e-04, 3.52e-04, 8.53e-04, 5.97e-07, 3.01e-05, 1.03e-03, 5.68e-04]    [9.86e-04, 3.52e-04, 8.53e-04, 5.97e-07, 3.01e-05, 1.03e-03, 5.68e-04]    []  \n",
      "6300      [9.07e-04, 3.79e-04, 8.03e-04, 6.65e-07, 1.51e-05, 9.23e-04, 3.97e-04]    [9.07e-04, 3.79e-04, 8.03e-04, 6.65e-07, 1.51e-05, 9.23e-04, 3.97e-04]    []  \n",
      "6650      [9.51e-04, 5.67e-04, 6.64e-04, 6.66e-10, 2.60e-05, 9.09e-04, 3.96e-04]    [9.51e-04, 5.67e-04, 6.64e-04, 6.66e-10, 2.60e-05, 9.09e-04, 3.96e-04]    []  \n",
      "7000      [8.91e-04, 8.34e-04, 5.70e-04, 1.55e-06, 3.70e-05, 9.34e-04, 3.84e-04]    [8.91e-04, 8.34e-04, 5.70e-04, 1.55e-06, 3.70e-05, 9.34e-04, 3.84e-04]    []  \n",
      "7350      [9.04e-04, 2.98e-04, 7.68e-04, 6.64e-07, 9.87e-06, 9.11e-04, 3.43e-04]    [9.04e-04, 2.98e-04, 7.68e-04, 6.64e-07, 9.87e-06, 9.11e-04, 3.43e-04]    []  \n",
      "7700      [9.03e-04, 3.05e-04, 7.19e-04, 6.28e-07, 1.06e-05, 9.07e-04, 3.30e-04]    [9.03e-04, 3.05e-04, 7.19e-04, 6.28e-07, 1.06e-05, 9.07e-04, 3.30e-04]    []  \n",
      "8050      [9.23e-04, 2.57e-04, 7.93e-04, 8.06e-09, 5.97e-06, 9.16e-04, 3.11e-04]    [9.23e-04, 2.57e-04, 7.93e-04, 8.06e-09, 5.97e-06, 9.16e-04, 3.11e-04]    []  \n",
      "8400      [9.07e-04, 5.79e-04, 1.05e-03, 4.77e-06, 5.08e-08, 9.89e-04, 3.21e-04]    [9.07e-04, 5.79e-04, 1.05e-03, 4.77e-06, 5.08e-08, 9.89e-04, 3.21e-04]    []  \n",
      "8750      [9.00e-04, 2.48e-04, 6.84e-04, 9.53e-07, 7.49e-06, 9.02e-04, 2.97e-04]    [9.00e-04, 2.48e-04, 6.84e-04, 9.53e-07, 7.49e-06, 9.02e-04, 2.97e-04]    []  \n",
      "9100      [9.12e-04, 2.31e-04, 6.92e-04, 1.49e-07, 6.45e-06, 8.88e-04, 2.83e-04]    [9.12e-04, 2.31e-04, 6.92e-04, 1.49e-07, 6.45e-06, 8.88e-04, 2.83e-04]    []  \n",
      "9450      [9.39e-04, 4.70e-04, 5.71e-04, 2.62e-06, 1.00e-04, 9.44e-04, 1.39e-03]    [9.39e-04, 4.70e-04, 5.71e-04, 2.62e-06, 1.00e-04, 9.44e-04, 1.39e-03]    []  \n",
      "9800      [8.86e-04, 1.13e-03, 4.15e-04, 6.60e-06, 4.36e-05, 1.01e-03, 2.99e-04]    [8.86e-04, 1.13e-03, 4.15e-04, 6.60e-06, 4.36e-05, 1.01e-03, 2.99e-04]    []  \n",
      "10150     [8.98e-04, 4.13e-04, 5.05e-04, 1.85e-06, 1.67e-05, 9.01e-04, 2.63e-04]    [8.98e-04, 4.13e-04, 5.05e-04, 1.85e-06, 1.67e-05, 9.01e-04, 2.63e-04]    []  \n",
      "10500     [1.40e-03, 3.61e-03, 1.35e-02, 1.49e-06, 3.26e-05, 2.10e-03, 3.19e-03]    [1.40e-03, 3.61e-03, 1.35e-02, 1.49e-06, 3.26e-05, 2.10e-03, 3.19e-03]    []  \n",
      "10850     [1.43e-03, 3.37e-03, 1.29e-02, 1.05e-06, 2.42e-05, 1.89e-03, 2.74e-03]    [1.43e-03, 3.37e-03, 1.29e-02, 1.05e-06, 2.42e-05, 1.89e-03, 2.74e-03]    []  \n",
      "11200     [1.49e-03, 3.17e-03, 1.23e-02, 7.48e-07, 2.18e-05, 1.76e-03, 2.40e-03]    [1.49e-03, 3.17e-03, 1.23e-02, 7.48e-07, 2.18e-05, 1.76e-03, 2.40e-03]    []  \n",
      "11550     [1.52e-03, 2.98e-03, 1.17e-02, 5.99e-07, 1.99e-05, 1.66e-03, 2.12e-03]    [1.52e-03, 2.98e-03, 1.17e-02, 5.99e-07, 1.99e-05, 1.66e-03, 2.12e-03]    []  \n",
      "11900     [1.50e-03, 2.80e-03, 1.12e-02, 5.37e-07, 1.82e-05, 1.56e-03, 1.87e-03]    [1.50e-03, 2.80e-03, 1.12e-02, 5.37e-07, 1.82e-05, 1.56e-03, 1.87e-03]    []  \n",
      "12250     [1.46e-03, 2.62e-03, 1.06e-02, 5.19e-07, 1.64e-05, 1.47e-03, 1.63e-03]    [1.46e-03, 2.62e-03, 1.06e-02, 5.19e-07, 1.64e-05, 1.47e-03, 1.63e-03]    []  \n",
      "12600     [1.42e-03, 2.45e-03, 9.91e-03, 5.23e-07, 1.47e-05, 1.39e-03, 1.43e-03]    [1.42e-03, 2.45e-03, 9.91e-03, 5.23e-07, 1.47e-05, 1.39e-03, 1.43e-03]    []  \n",
      "12950     [1.37e-03, 2.27e-03, 9.23e-03, 5.39e-07, 1.33e-05, 1.31e-03, 1.26e-03]    [1.37e-03, 2.27e-03, 9.23e-03, 5.39e-07, 1.33e-05, 1.31e-03, 1.26e-03]    []  \n",
      "13300     [1.32e-03, 2.10e-03, 8.52e-03, 5.59e-07, 1.20e-05, 1.23e-03, 1.12e-03]    [1.32e-03, 2.10e-03, 8.52e-03, 5.59e-07, 1.20e-05, 1.23e-03, 1.12e-03]    []  \n",
      "13650     [1.27e-03, 1.92e-03, 7.78e-03, 5.90e-07, 1.09e-05, 1.17e-03, 1.01e-03]    [1.27e-03, 1.92e-03, 7.78e-03, 5.90e-07, 1.09e-05, 1.17e-03, 1.01e-03]    []  \n",
      "14000     [1.22e-03, 1.75e-03, 7.06e-03, 6.29e-07, 9.91e-06, 1.11e-03, 9.14e-04]    [1.22e-03, 1.75e-03, 7.06e-03, 6.29e-07, 9.91e-06, 1.11e-03, 9.14e-04]    []  \n",
      "14350     [1.16e-03, 1.60e-03, 6.33e-03, 6.75e-07, 9.21e-06, 1.06e-03, 8.51e-04]    [1.16e-03, 1.60e-03, 6.33e-03, 6.75e-07, 9.21e-06, 1.06e-03, 8.51e-04]    []  \n",
      "14700     [1.15e-03, 7.08e-04, 6.88e-03, 1.19e-07, 7.12e-07, 1.01e-03, 8.54e-04]    [1.15e-03, 7.08e-04, 6.88e-03, 1.19e-07, 7.12e-07, 1.01e-03, 8.54e-04]    []  \n",
      "15050     [1.06e-03, 1.31e-03, 4.98e-03, 7.86e-07, 8.14e-06, 9.71e-04, 7.84e-04]    [1.06e-03, 1.31e-03, 4.98e-03, 7.86e-07, 8.14e-06, 9.71e-04, 7.84e-04]    []  \n",
      "15400     [1.07e-03, 1.17e-03, 4.96e-03, 1.43e-06, 6.98e-06, 9.73e-04, 7.46e-04]    [1.07e-03, 1.17e-03, 4.96e-03, 1.43e-06, 6.98e-06, 9.73e-04, 7.46e-04]    []  \n",
      "15750     [1.01e-03, 2.49e-03, 4.07e-03, 3.20e-05, 2.35e-05, 1.19e-03, 7.23e-04]    [1.01e-03, 2.49e-03, 4.07e-03, 3.20e-05, 2.35e-05, 1.19e-03, 7.23e-04]    []  \n",
      "16100     [1.07e-03, 8.49e-04, 5.36e-03, 1.69e-06, 2.05e-06, 9.72e-04, 7.35e-04]    [1.07e-03, 8.49e-04, 5.36e-03, 1.69e-06, 2.05e-06, 9.72e-04, 7.35e-04]    []  \n",
      "16450     [1.16e-03, 1.02e-03, 5.16e-03, 2.79e-05, 4.37e-06, 1.08e-03, 7.01e-04]    [1.16e-03, 1.02e-03, 5.16e-03, 2.79e-05, 4.37e-06, 1.08e-03, 7.01e-04]    []  \n",
      "16800     [1.02e-03, 2.82e-03, 3.95e-03, 1.66e-05, 3.89e-05, 1.07e-03, 6.82e-04]    [1.02e-03, 2.82e-03, 3.95e-03, 1.66e-05, 3.89e-05, 1.07e-03, 6.82e-04]    []  \n",
      "17150     [1.04e-03, 2.47e-03, 4.11e-03, 4.07e-06, 3.72e-05, 9.91e-04, 6.52e-04]    [1.04e-03, 2.47e-03, 4.11e-03, 4.07e-06, 3.72e-05, 9.91e-04, 6.52e-04]    []  \n",
      "17500     [1.01e-03, 1.74e-03, 4.47e-03, 3.50e-05, 1.73e-05, 1.13e-03, 6.47e-04]    [1.01e-03, 1.74e-03, 4.47e-03, 3.50e-05, 1.73e-05, 1.13e-03, 6.47e-04]    []  \n",
      "17850     [1.04e-03, 1.26e-03, 4.83e-03, 5.94e-06, 6.30e-06, 1.01e-03, 6.43e-04]    [1.04e-03, 1.26e-03, 4.83e-03, 5.94e-06, 6.30e-06, 1.01e-03, 6.43e-04]    []  \n",
      "18200     [1.07e-03, 4.66e-04, 6.35e-03, 4.69e-07, 1.60e-05, 9.63e-04, 7.91e-04]    [1.07e-03, 4.66e-04, 6.35e-03, 4.69e-07, 1.60e-05, 9.63e-04, 7.91e-04]    []  \n",
      "18550     [1.08e-03, 8.68e-04, 5.26e-03, 3.75e-06, 7.97e-07, 9.75e-04, 6.36e-04]    [1.08e-03, 8.68e-04, 5.26e-03, 3.75e-06, 7.97e-07, 9.75e-04, 6.36e-04]    []  \n",
      "18900     [1.01e-03, 2.21e-03, 4.23e-03, 1.61e-05, 2.94e-05, 1.03e-03, 5.98e-04]    [1.01e-03, 2.21e-03, 4.23e-03, 1.61e-05, 2.94e-05, 1.03e-03, 5.98e-04]    []  \n",
      "19250     [1.06e-03, 1.39e-03, 4.71e-03, 4.49e-08, 9.72e-06, 9.47e-04, 5.89e-04]    [1.06e-03, 1.39e-03, 4.71e-03, 4.49e-08, 9.72e-06, 9.47e-04, 5.89e-04]    []  \n",
      "19600     [1.03e-03, 1.03e-03, 5.03e-03, 7.73e-06, 2.47e-06, 9.82e-04, 5.85e-04]    [1.03e-03, 1.03e-03, 5.03e-03, 7.73e-06, 2.47e-06, 9.82e-04, 5.85e-04]    []  \n",
      "19950     [1.01e-03, 6.48e-04, 5.56e-03, 1.58e-05, 1.25e-07, 1.04e-03, 5.88e-04]    [1.01e-03, 6.48e-04, 5.56e-03, 1.58e-05, 1.25e-07, 1.04e-03, 5.88e-04]    []  \n",
      "20300     [1.08e-03, 7.02e-04, 5.82e-03, 2.19e-08, 1.87e-05, 9.13e-04, 6.83e-04]    [1.08e-03, 7.02e-04, 5.82e-03, 2.19e-08, 1.87e-05, 9.13e-04, 6.83e-04]    []  \n",
      "20650     [1.04e-03, 3.12e-03, 3.88e-03, 3.02e-06, 5.64e-05, 9.66e-04, 5.31e-04]    [1.04e-03, 3.12e-03, 3.88e-03, 3.02e-06, 5.64e-05, 9.66e-04, 5.31e-04]    []  \n",
      "21000     [1.05e-03, 6.28e-04, 5.55e-03, 1.27e-06, 8.34e-07, 9.49e-04, 5.53e-04]    [1.05e-03, 6.28e-04, 5.55e-03, 1.27e-06, 8.34e-07, 9.49e-04, 5.53e-04]    []  \n",
      "21350     [1.05e-03, 8.91e-04, 5.12e-03, 1.08e-07, 1.22e-06, 9.41e-04, 5.29e-04]    [1.05e-03, 8.91e-04, 5.12e-03, 1.08e-07, 1.22e-06, 9.41e-04, 5.29e-04]    []  \n",
      "21700     [1.01e-03, 6.37e-04, 5.53e-03, 1.87e-05, 9.30e-07, 1.04e-03, 5.33e-04]    [1.01e-03, 6.37e-04, 5.53e-03, 1.87e-05, 9.30e-07, 1.04e-03, 5.33e-04]    []  \n",
      "22050     [1.05e-03, 1.38e-03, 4.70e-03, 4.49e-07, 5.92e-06, 9.33e-04, 4.72e-04]    [1.05e-03, 1.38e-03, 4.70e-03, 4.49e-07, 5.92e-06, 9.33e-04, 4.72e-04]    []  \n",
      "22400     [1.04e-03, 8.39e-04, 5.20e-03, 2.83e-05, 1.85e-08, 1.05e-03, 5.11e-04]    [1.04e-03, 8.39e-04, 5.20e-03, 2.83e-05, 1.85e-08, 1.05e-03, 5.11e-04]    []  \n",
      "22750     [9.87e-04, 8.81e-04, 5.16e-03, 1.78e-05, 2.65e-07, 1.08e-03, 4.45e-04]    [9.87e-04, 8.81e-04, 5.16e-03, 1.78e-05, 2.65e-07, 1.08e-03, 4.45e-04]    []  \n",
      "23100     [1.05e-03, 6.73e-04, 5.36e-03, 4.41e-06, 2.42e-06, 9.45e-04, 5.89e-04]    [1.05e-03, 6.73e-04, 5.36e-03, 4.41e-06, 2.42e-06, 9.45e-04, 5.89e-04]    []  \n",
      "23450     [1.04e-03, 3.64e-04, 6.25e-03, 1.92e-08, 4.94e-06, 9.23e-04, 4.95e-04]    [1.04e-03, 3.64e-04, 6.25e-03, 1.92e-08, 4.94e-06, 9.23e-04, 4.95e-04]    []  \n",
      "23800     [1.03e-03, 1.63e-03, 4.50e-03, 1.74e-06, 2.03e-06, 9.54e-04, 4.54e-04]    [1.03e-03, 1.63e-03, 4.50e-03, 1.74e-06, 2.03e-06, 9.54e-04, 4.54e-04]    []  \n",
      "24150     [1.09e-03, 3.76e-04, 6.94e-03, 7.75e-06, 1.89e-05, 9.38e-04, 5.96e-04]    [1.09e-03, 3.76e-04, 6.94e-03, 7.75e-06, 1.89e-05, 9.38e-04, 5.96e-04]    []  \n",
      "24500     [1.04e-03, 1.78e-03, 4.40e-03, 5.49e-07, 1.14e-06, 9.74e-04, 4.32e-04]    [1.04e-03, 1.78e-03, 4.40e-03, 5.49e-07, 1.14e-06, 9.74e-04, 4.32e-04]    []  \n",
      "24850     [1.03e-03, 1.29e-03, 4.67e-03, 3.24e-05, 3.01e-06, 1.07e-03, 4.65e-04]    [1.03e-03, 1.29e-03, 4.67e-03, 3.24e-05, 3.01e-06, 1.07e-03, 4.65e-04]    []  \n",
      "25200     [9.75e-04, 2.48e-03, 4.06e-03, 5.29e-05, 1.86e-05, 1.22e-03, 4.39e-04]    [9.75e-04, 2.48e-03, 4.06e-03, 5.29e-05, 1.86e-05, 1.22e-03, 4.39e-04]    []  \n",
      "25550     [9.63e-04, 6.44e-04, 5.60e-03, 6.50e-05, 3.96e-05, 1.32e-03, 3.61e-04]    [9.63e-04, 6.44e-04, 5.60e-03, 6.50e-05, 3.96e-05, 1.32e-03, 3.61e-04]    []  \n",
      "25900     [1.02e-03, 1.06e-03, 4.90e-03, 1.33e-06, 1.21e-06, 9.31e-04, 4.18e-04]    [1.02e-03, 1.06e-03, 4.90e-03, 1.33e-06, 1.21e-06, 9.31e-04, 4.18e-04]    []  \n",
      "26250     [1.03e-03, 1.28e-03, 4.81e-03, 1.75e-06, 6.97e-06, 9.10e-04, 4.13e-04]    [1.03e-03, 1.28e-03, 4.81e-03, 1.75e-06, 6.97e-06, 9.10e-04, 4.13e-04]    []  \n",
      "26600     [1.06e-03, 4.23e-04, 5.86e-03, 1.65e-06, 4.98e-06, 9.13e-04, 4.93e-04]    [1.06e-03, 4.23e-04, 5.86e-03, 1.65e-06, 4.98e-06, 9.13e-04, 4.93e-04]    []  \n",
      "26950     [1.00e-03, 6.63e-04, 5.37e-03, 9.53e-06, 1.53e-06, 9.78e-04, 4.36e-04]    [1.00e-03, 6.63e-04, 5.37e-03, 9.53e-06, 1.53e-06, 9.78e-04, 4.36e-04]    []  \n",
      "27300     [1.07e-03, 9.21e-04, 5.00e-03, 3.42e-07, 3.80e-07, 8.98e-04, 4.23e-04]    [1.07e-03, 9.21e-04, 5.00e-03, 3.42e-07, 3.80e-07, 8.98e-04, 4.23e-04]    []  \n",
      "27650     [1.03e-03, 1.11e-03, 4.80e-03, 6.65e-06, 2.41e-07, 9.78e-04, 4.22e-04]    [1.03e-03, 1.11e-03, 4.80e-03, 6.65e-06, 2.41e-07, 9.78e-04, 4.22e-04]    []  \n",
      "28000     [1.17e-03, 4.64e-04, 5.57e-03, 6.17e-06, 9.27e-07, 8.87e-04, 5.25e-04]    [1.17e-03, 4.64e-04, 5.57e-03, 6.17e-06, 9.27e-07, 8.87e-04, 5.25e-04]    []  \n",
      "28350     [1.04e-03, 6.26e-04, 5.39e-03, 2.86e-08, 2.58e-07, 9.21e-04, 4.14e-04]    [1.04e-03, 6.26e-04, 5.39e-03, 2.86e-08, 2.58e-07, 9.21e-04, 4.14e-04]    []  \n",
      "28700     [1.04e-03, 1.29e-03, 4.67e-03, 1.23e-06, 2.03e-06, 9.09e-04, 4.10e-04]    [1.04e-03, 1.29e-03, 4.67e-03, 1.23e-06, 2.03e-06, 9.09e-04, 4.10e-04]    []  \n",
      "29050     [1.06e-03, 1.87e-03, 4.30e-03, 8.71e-06, 1.52e-05, 9.97e-04, 4.35e-04]    [1.06e-03, 1.87e-03, 4.30e-03, 8.71e-06, 1.52e-05, 9.97e-04, 4.35e-04]    []  \n",
      "29400     [9.82e-04, 8.91e-04, 5.07e-03, 5.50e-06, 4.62e-06, 1.01e-03, 4.06e-04]    [9.82e-04, 8.91e-04, 5.07e-03, 5.50e-06, 4.62e-06, 1.01e-03, 4.06e-04]    []  \n",
      "29750     [1.06e-03, 5.24e-04, 5.56e-03, 2.25e-08, 4.78e-07, 8.90e-04, 3.99e-04]    [1.06e-03, 5.24e-04, 5.56e-03, 2.25e-08, 4.78e-07, 8.90e-04, 3.99e-04]    []  \n",
      "30100     [1.03e-03, 1.38e-03, 4.61e-03, 3.74e-07, 1.87e-09, 9.26e-04, 4.08e-04]    [1.03e-03, 1.38e-03, 4.61e-03, 3.74e-07, 1.87e-09, 9.26e-04, 4.08e-04]    []  \n",
      "30450     [9.72e-04, 2.62e-03, 3.98e-03, 1.51e-06, 6.32e-06, 9.63e-04, 4.07e-04]    [9.72e-04, 2.62e-03, 3.98e-03, 1.51e-06, 6.32e-06, 9.63e-04, 4.07e-04]    []  \n",
      "30800     [1.04e-03, 1.50e-03, 4.52e-03, 5.81e-06, 3.95e-06, 9.59e-04, 3.89e-04]    [1.04e-03, 1.50e-03, 4.52e-03, 5.81e-06, 3.95e-06, 9.59e-04, 3.89e-04]    []  \n",
      "31150     [1.13e-03, 1.52e-03, 4.49e-03, 4.15e-06, 5.73e-07, 9.19e-04, 4.75e-04]    [1.13e-03, 1.52e-03, 4.49e-03, 4.15e-06, 5.73e-07, 9.19e-04, 4.75e-04]    []  \n",
      "31500     [1.00e-03, 2.19e-03, 4.29e-03, 1.04e-05, 6.52e-05, 9.40e-04, 5.23e-04]    [1.00e-03, 2.19e-03, 4.29e-03, 1.04e-05, 6.52e-05, 9.40e-04, 5.23e-04]    []  \n",
      "31850     [1.09e-03, 1.15e-03, 4.79e-03, 9.72e-06, 9.59e-10, 9.64e-04, 3.84e-04]    [1.09e-03, 1.15e-03, 4.79e-03, 9.72e-06, 9.59e-10, 9.64e-04, 3.84e-04]    []  \n",
      "32200     [1.06e-03, 5.31e-04, 5.57e-03, 2.43e-06, 7.57e-06, 8.90e-04, 4.14e-04]    [1.06e-03, 5.31e-04, 5.57e-03, 2.43e-06, 7.57e-06, 8.90e-04, 4.14e-04]    []  \n",
      "32550     [1.07e-03, 5.94e-04, 5.36e-03, 9.67e-07, 2.36e-07, 9.29e-04, 4.11e-04]    [1.07e-03, 5.94e-04, 5.36e-03, 9.67e-07, 2.36e-07, 9.29e-04, 4.11e-04]    []  \n",
      "32900     [1.15e-03, 1.87e-03, 4.36e-03, 1.07e-05, 2.57e-06, 8.64e-04, 4.11e-04]    [1.15e-03, 1.87e-03, 4.36e-03, 1.07e-05, 2.57e-06, 8.64e-04, 4.11e-04]    []  \n",
      "33250     [1.02e-03, 1.81e-03, 4.32e-03, 2.15e-08, 3.49e-06, 9.26e-04, 3.98e-04]    [1.02e-03, 1.81e-03, 4.32e-03, 2.15e-08, 3.49e-06, 9.26e-04, 3.98e-04]    []  \n",
      "33600     [1.08e-03, 1.03e-03, 4.89e-03, 3.72e-07, 5.09e-07, 9.02e-04, 3.76e-04]    [1.08e-03, 1.03e-03, 4.89e-03, 3.72e-07, 5.09e-07, 9.02e-04, 3.76e-04]    []  \n",
      "33950     [1.03e-03, 2.08e-03, 4.25e-03, 5.61e-07, 1.63e-06, 9.25e-04, 3.79e-04]    [1.03e-03, 2.08e-03, 4.25e-03, 5.61e-07, 1.63e-06, 9.25e-04, 3.79e-04]    []  \n",
      "34300     [1.02e-03, 1.05e-03, 4.83e-03, 1.28e-07, 9.86e-08, 9.32e-04, 4.19e-04]    [1.02e-03, 1.05e-03, 4.83e-03, 1.28e-07, 9.86e-08, 9.32e-04, 4.19e-04]    []  \n",
      "34650     [1.02e-03, 6.36e-04, 5.31e-03, 1.44e-06, 1.19e-07, 9.29e-04, 4.12e-04]    [1.02e-03, 6.36e-04, 5.31e-03, 1.44e-06, 1.19e-07, 9.29e-04, 4.12e-04]    []  \n",
      "35000     [1.18e-03, 1.51e-03, 4.65e-03, 2.11e-07, 2.13e-05, 1.14e-03, 6.31e-04]    [1.18e-03, 1.51e-03, 4.65e-03, 2.11e-07, 2.13e-05, 1.14e-03, 6.31e-04]    []  \n",
      "\n",
      "Best model at step 10150:\n",
      "  train loss: 3.00e-03\n",
      "  test loss: 3.00e-03\n",
      "  test metric: []\n",
      "\n",
      "'train' took 385.017940 s\n",
      "\n",
      "Saving loss history to ../results/models/model2\\loss.dat ...\n",
      "Saving training data to ../results/models/model2\\train.dat ...\n",
      "Saving test data to ../results/models/model2\\test.dat ...\n"
     ]
    },
    {
     "data": {
      "image/png": "[encoded data removed]",
      "text/plain": [
       "<Figure size 640x480 with 1 Axes>"
      ]
     },
     "metadata": {},
     "output_type": "display_data"
    },
    {
     "data": {
      "image/png": "[encoded data removed]",
      "text/plain": [
       "<Figure size 640x480 with 1 Axes>"
      ]
     },
     "metadata": {},
     "output_type": "display_data"
    }
   ],
   "source": [
    "variable = dde.callbacks.VariableValue(\n",
    "    [a1, a2, a3, a4],\n",
    "    period=(iterations//100 if iterations > 99 else 1),\n",
    "    filename=model_dir+'/variables.dat')\n",
    "\n",
    "start = time.time()\n",
    "\n",
    "to_npz(datafile, '../data/model' + str(model_num) + '.npz', x_cols=['t'], y_cols=y_cols)\n",
    "ob_t, ob_y = load_training_data('../data/model' + str(model_num) + '.npz')\n",
    "# print(ob_y1.values, ob_y2.values, ob_y3.values)\n",
    "ic1 = dde.icbc.IC(geom, lambda X: initial_conditions[0], boundary, component=0)\n",
    "ic2 = dde.icbc.IC(geom, lambda X: initial_conditions[1], boundary, component=1)\n",
    "\n",
    "ob_y1 = dde.icbc.PointSetBC(ob_t, ob_y[:, 0:1], component=0)\n",
    "ob_y2 = dde.icbc.PointSetBC(ob_t, ob_y[:, 1:2], component=1)\n",
    "\n",
    "data = dde.data.PDE(\n",
    "    geom,\n",
    "    equations,\n",
    "    [ic1, ic2, ob_y1, ob_y2],\n",
    "    num_domain=200, #TODO\n",
    "    num_boundary=1, #TODO\n",
    "    anchors=ob_t\n",
    ")\n",
    "\n",
    "network = dde.nn.FNN(layers, activation, 'Glorot uniform')\n",
    "model = dde.Model(data, network)\n",
    "\n",
    "model.compile(optimizer, lr=learning_rate, external_trainable_variables=[a1, a2, a3, a4])\n",
    "\n",
    "loss_history, train_state = model.train(\n",
    "    epochs=iterations, callbacks=[variable], display_every=\n",
    "    (iterations // 100 if iterations > 99 else 1)\n",
    "    ,\n",
    "    disregard_previous_best=True\n",
    ")\n",
    "\n",
    "\n",
    "dde.saveplot(loss_history, train_state, issave=True, isplot=False, output_dir=f'{model_dir}')\n",
    "dde.utils.external.plot_loss_history(loss_history,\n",
    "                                     fname=f'{model_dir}/loss_history'\n",
    "                                     )\n",
    "dde.utils.external.plot_best_state(train_state,\n",
    "                                   fname=f'{model_dir}/train_state'\n",
    "                                   )\n",
    "\n",
    "pred = model.predict(ob_t, operator=equations)\n",
    "model.save(f'{model_dir}/nonneg_constr')\n",
    "\n",
    "with open(f'{model_dir}/info.dat', 'x') as f:\n",
    "\n",
    "    lines = [\n",
    "        f'training time: {time.time() - start}\\n',\n",
    "        f'residual: {np.mean(np.absolute(pred))}\\n'\n",
    "        f'best model at: {train_state.best_step}\\n'\n",
    "        f'train loss: {train_state.best_loss_train}\\n'\n",
    "    ]\n",
    "\n",
    "    f.writelines(lines)\n"
   ]
  },
  {
   "cell_type": "code",
   "execution_count": null,
   "metadata": {},
   "outputs": [],
   "source": []
  }
 ],
 "metadata": {
  "kernelspec": {
   "display_name": "Python 3",
   "language": "python",
   "name": "python3"
  },
  "language_info": {
   "codemirror_mode": {
    "name": "ipython",
    "version": 3
   },
   "file_extension": ".py",
   "mimetype": "text/x-python",
   "name": "python",
   "nbconvert_exporter": "python",
   "pygments_lexer": "ipython3",
   "version": "3.12.10"
  }
 },
 "nbformat": 4,
 "nbformat_minor": 2
}
