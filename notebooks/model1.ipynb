{
 "cells": [
  {
   "cell_type": "code",
   "execution_count": 1,
   "metadata": {},
   "outputs": [],
   "source": [
    "import sys\n",
    "sys.path.append('../src')  # Add src directory to path\n"
   ]
  },
  {
   "cell_type": "code",
   "execution_count": 2,
   "metadata": {},
   "outputs": [
    {
     "name": "stderr",
     "output_type": "stream",
     "text": [
      "Using backend: pytorch\n",
      "Other supported backends: tensorflow.compat.v1, tensorflow, jax, paddle.\n",
      "paddle supports more examples now and is recommended.\n",
      "c:\\Users\\deba\\AppData\\Local\\Programs\\Python\\Python312\\Lib\\site-packages\\torch\\__init__.py:1240: UserWarning: torch.set_default_tensor_type() is deprecated as of PyTorch 2.1, please use torch.set_default_dtype() and torch.set_default_device() as alternatives. (Triggered internally at C:\\actions-runner\\_work\\pytorch\\pytorch\\pytorch\\torch\\csrc\\tensor\\python_tensor.cpp:436.)\n",
      "  _C._set_default_tensor_type(t)\n"
     ]
    }
   ],
   "source": [
    "import torch\n",
    "import sys\n",
    "\n",
    "# Add the src directory to the Python path\n",
    "sys.path.append('../src')\n",
    "\n",
    "# assert torch.cuda.is_available()\n",
    "\n",
    "from deepxdeAbeta import deepxde as dde\n",
    "\n",
    "import numpy as np\n",
    "import matplotlib.pyplot as plt\n",
    "import pandas as pd\n",
    "from scipy.integrate import odeint\n",
    "import os\n",
    "import shutil\n",
    "import time"
   ]
  },
  {
   "cell_type": "code",
   "execution_count": 3,
   "metadata": {},
   "outputs": [],
   "source": [
    "backend = \"pytorch\""
   ]
  },
  {
   "cell_type": "code",
   "execution_count": 4,
   "metadata": {},
   "outputs": [
    {
     "name": "stdout",
     "output_type": "stream",
     "text": [
      "Set the default float type to float64\n",
      "Setting the default backend to \"pytorch\". You can change it in the ~/.deepxde/config.json file or export the DDE_BACKEND environment variable. Valid options are: tensorflow.compat.v1, tensorflow, pytorch, jax, paddle (all lowercase)\n"
     ]
    }
   ],
   "source": [
    "dde.config.set_default_float(\"float64\")\n",
    "dde.backend.set_default_backend(backend)"
   ]
  },
  {
   "cell_type": "code",
   "execution_count": 5,
   "metadata": {},
   "outputs": [],
   "source": [
    "max_time = 10\n",
    "num_rows = 200"
   ]
  },
  {
   "cell_type": "code",
   "execution_count": 6,
   "metadata": {},
   "outputs": [],
   "source": [
    "def to_npz(filepath, out_path, x_cols, y_cols):\n",
    "    df = pd.read_csv(filepath)\n",
    "    t = []\n",
    "    y = []\n",
    "    for _, v in df.iterrows():\n",
    "        t.append(v[x_cols].to_numpy())\n",
    "        y.append(v[y_cols].to_numpy())\n",
    "    np.savez(out_path, t=t, y=y)\n",
    "\n",
    "\n",
    "def load_training_data(data_path):\n",
    "    tr_data = np.load(data_path)\n",
    "    return tr_data['t'], tr_data['y']"
   ]
  },
  {
   "cell_type": "code",
   "execution_count": 7,
   "metadata": {},
   "outputs": [],
   "source": [
    "geom = dde.geometry.TimeDomain(0, max_time)\n",
    "\n",
    "\n",
    "# Helper function that is used to check whether a point is an initial point or not. This is only used by DeepXDE\n",
    "def boundary(_, on_initial):\n",
    "    return on_initial\n",
    "\n",
    "\n",
    "num_hidden_layers = 3\n",
    "hidden_layer_size = 6\n",
    "output_layer = 2\n",
    "\n",
    "layers = [1] + [hidden_layer_size] * num_hidden_layers + [output_layer]\n",
    "\n",
    "activation = ['tanh']*num_hidden_layers + ['tanh']\n",
    "\n",
    "iterations = 35_000\n",
    "optimizer = \"adam\"\n",
    "learning_rate = 1e-03"
   ]
  },
  {
   "cell_type": "code",
   "execution_count": 8,
   "metadata": {},
   "outputs": [],
   "source": [
    "model_num = 1 #TODO\n",
    "model_dir = '../results/models/model1'\n",
    "datafile = '../data/model' + str(model_num) + '.csv'\n",
    "os.makedirs(model_dir, exist_ok=True)"
   ]
  },
  {
   "cell_type": "code",
   "execution_count": 9,
   "metadata": {},
   "outputs": [
    {
     "name": "stdout",
     "output_type": "stream",
     "text": [
      "tensor(0., requires_grad=True) tensor(0., requires_grad=True)\n"
     ]
    }
   ],
   "source": [
    "#IMPORTS\n",
    "# from binning_trials.binned_models import *\n",
    "a1, a2 = [dde.Variable(np.float64(0)), dde.Variable(np.float64(0))]\n",
    "c = np.float64(3)\n",
    "print(a1, a2)\n",
    "def equations(x, y):\n",
    "    # print(y)\n",
    "    B1_35, B4 = abs(y[:, 0:1]), abs(y[:, 1:2])\n",
    "    # tf.print(x, output_stream=sys.stderr, summarize=10)\n",
    "\n",
    "    B1_35t = dde.grad.jacobian(y, x, i=0)\n",
    "    B4t = dde.grad.jacobian(y, x, i=1)\n",
    "    # print(B1_35)\n",
    "\n",
    "    # calculates residuals by subtracting right side from left side of each equation.\n",
    "    # Left side is calculated with respect to time, right side is calculated with the other species.\n",
    "    # Finding the correct constants to make residuals = 0; essentially residual = loss to be minimized.\n",
    "    r_b1_35 = B1_35t - (a1 * c * B4 - a2 * c * B1_35**c)\n",
    "    r_b4 = B4t - (a2 * B1_35**c - a1 * B4)\n",
    "\n",
    "\n",
    "    # print(r_b1_35)\n",
    "\n",
    "    # res = torch.cat([r_b1, r_b1p, r_bn, r_bnp, r_bm, r_bmp])\n",
    "    # diff = torch.cat([B1t, B1pt, Bnt, Bnpt, Bmt, Bmpt])\n",
    "    # pred = torch.cat([B1tp, B1ptp, Bntp, Bnptp, Bmtp, Bmptp])\n",
    "    # res2 = torch.where(pred < 0, res*100, res)\n",
    "    # # print(res[torch.ge(res, diff)])\n",
    "    #\n",
    "    # return torch.chunk(res, 6)\n",
    "\n",
    "    return [r_b1_35, r_b4]\n",
    "initial_conditions = [3.15E-06,2.39E-05]\n",
    "y_cols = ['1.35uM', '4uM']\n",
    "\n"
   ]
  },
  {
   "cell_type": "code",
   "execution_count": 10,
   "metadata": {},
   "outputs": [
    {
     "data": {
      "text/plain": [
       "torch.float64"
      ]
     },
     "execution_count": 10,
     "metadata": {},
     "output_type": "execute_result"
    }
   ],
   "source": [
    "a1.dtype"
   ]
  },
  {
   "cell_type": "code",
   "execution_count": 11,
   "metadata": {},
   "outputs": [
    {
     "name": "stdout",
     "output_type": "stream",
     "text": [
      "Compiling model...\n",
      "'compile' took 2.196360 s\n",
      "\n",
      "Warning: epochs is deprecated and will be removed in a future version. Use iterations instead.\n",
      "Training model...\n",
      "\n",
      "Step      Train loss                                                      Test loss                                                       Test metric\n",
      "0         [7.36e-03, 1.84e-02, 9.92e-12, 5.71e-10, 3.38e-01, 1.21e-01]    [7.36e-03, 1.84e-02, 9.92e-12, 5.71e-10, 3.38e-01, 1.21e-01]    []  \n",
      "350       [2.26e-03, 3.46e-02, 1.14e-07, 1.29e-03, 1.27e-03, 9.53e-03]    [2.26e-03, 3.46e-02, 1.14e-07, 1.29e-03, 1.27e-03, 9.53e-03]    []  \n",
      "700       [1.75e-03, 3.52e-02, 5.76e-07, 1.30e-03, 9.31e-04, 8.46e-03]    [1.75e-03, 3.52e-02, 5.76e-07, 1.30e-03, 9.31e-04, 8.46e-03]    []  \n",
      "1050      [1.58e-03, 3.55e-02, 1.65e-07, 1.33e-03, 7.51e-04, 8.01e-03]    [1.58e-03, 3.55e-02, 1.65e-07, 1.33e-03, 7.51e-04, 8.01e-03]    []  \n",
      "1400      [1.55e-03, 3.58e-02, 2.10e-08, 1.35e-03, 6.69e-04, 7.74e-03]    [1.55e-03, 3.58e-02, 2.10e-08, 1.35e-03, 6.69e-04, 7.74e-03]    []  \n",
      "1750      [1.55e-03, 3.58e-02, 3.59e-11, 1.36e-03, 6.34e-04, 7.64e-03]    [1.55e-03, 3.58e-02, 3.59e-11, 1.36e-03, 6.34e-04, 7.64e-03]    []  \n",
      "2100      [1.56e-03, 3.59e-02, 2.32e-09, 1.37e-03, 6.22e-04, 7.61e-03]    [1.56e-03, 3.59e-02, 2.32e-09, 1.37e-03, 6.22e-04, 7.61e-03]    []  \n",
      "2450      [1.56e-03, 3.59e-02, 4.63e-09, 1.37e-03, 6.18e-04, 7.59e-03]    [1.56e-03, 3.59e-02, 4.63e-09, 1.37e-03, 6.18e-04, 7.59e-03]    []  \n",
      "2800      [1.56e-03, 3.59e-02, 5.91e-09, 1.37e-03, 6.16e-04, 7.59e-03]    [1.56e-03, 3.59e-02, 5.91e-09, 1.37e-03, 6.16e-04, 7.59e-03]    []  \n",
      "3150      [1.56e-03, 3.59e-02, 6.50e-09, 1.37e-03, 6.15e-04, 7.58e-03]    [1.56e-03, 3.59e-02, 6.50e-09, 1.37e-03, 6.15e-04, 7.58e-03]    []  \n",
      "3500      [1.56e-03, 3.59e-02, 6.55e-09, 1.36e-03, 6.14e-04, 7.58e-03]    [1.56e-03, 3.59e-02, 6.55e-09, 1.36e-03, 6.14e-04, 7.58e-03]    []  \n",
      "3850      [1.56e-03, 3.59e-02, 6.25e-09, 1.36e-03, 6.13e-04, 7.58e-03]    [1.56e-03, 3.59e-02, 6.25e-09, 1.36e-03, 6.13e-04, 7.58e-03]    []  \n",
      "4200      [1.56e-03, 3.59e-02, 5.77e-09, 1.36e-03, 6.13e-04, 7.57e-03]    [1.56e-03, 3.59e-02, 5.77e-09, 1.36e-03, 6.13e-04, 7.57e-03]    []  \n",
      "4550      [1.56e-03, 3.59e-02, 5.22e-09, 1.36e-03, 6.12e-04, 7.57e-03]    [1.56e-03, 3.59e-02, 5.22e-09, 1.36e-03, 6.12e-04, 7.57e-03]    []  \n",
      "4900      [1.56e-03, 3.59e-02, 4.69e-09, 1.36e-03, 6.12e-04, 7.57e-03]    [1.56e-03, 3.59e-02, 4.69e-09, 1.36e-03, 6.12e-04, 7.57e-03]    []  \n",
      "5250      [1.56e-03, 3.59e-02, 8.82e-09, 1.37e-03, 6.12e-04, 7.57e-03]    [1.56e-03, 3.59e-02, 8.82e-09, 1.37e-03, 6.12e-04, 7.57e-03]    []  \n",
      "5600      [1.57e-03, 3.59e-02, 3.84e-09, 1.36e-03, 6.11e-04, 7.57e-03]    [1.57e-03, 3.59e-02, 3.84e-09, 1.36e-03, 6.11e-04, 7.57e-03]    []  \n",
      "5950      [1.56e-03, 3.59e-02, 3.16e-08, 1.36e-03, 6.14e-04, 7.57e-03]    [1.56e-03, 3.59e-02, 3.16e-08, 1.36e-03, 6.14e-04, 7.57e-03]    []  \n",
      "6300      [1.57e-03, 3.59e-02, 3.34e-09, 1.36e-03, 6.11e-04, 7.56e-03]    [1.57e-03, 3.59e-02, 3.34e-09, 1.36e-03, 6.11e-04, 7.56e-03]    []  \n",
      "6650      [1.57e-03, 3.59e-02, 3.00e-09, 1.36e-03, 6.10e-04, 7.56e-03]    [1.57e-03, 3.59e-02, 3.00e-09, 1.36e-03, 6.10e-04, 7.56e-03]    []  \n",
      "7000      [1.57e-03, 3.59e-02, 5.35e-09, 1.38e-03, 6.08e-04, 7.53e-03]    [1.57e-03, 3.59e-02, 5.35e-09, 1.38e-03, 6.08e-04, 7.53e-03]    []  \n",
      "7350      [1.57e-03, 3.59e-02, 5.11e-09, 1.36e-03, 6.09e-04, 7.56e-03]    [1.57e-03, 3.59e-02, 5.11e-09, 1.36e-03, 6.09e-04, 7.56e-03]    []  \n",
      "7700      [1.57e-03, 3.59e-02, 2.99e-09, 1.36e-03, 6.08e-04, 7.56e-03]    [1.57e-03, 3.59e-02, 2.99e-09, 1.36e-03, 6.08e-04, 7.56e-03]    []  \n",
      "8050      [1.57e-03, 3.59e-02, 3.11e-09, 1.36e-03, 6.07e-04, 7.56e-03]    [1.57e-03, 3.59e-02, 3.11e-09, 1.36e-03, 6.07e-04, 7.56e-03]    []  \n",
      "8400      [1.57e-03, 3.59e-02, 2.20e-09, 1.36e-03, 6.06e-04, 7.55e-03]    [1.57e-03, 3.59e-02, 2.20e-09, 1.36e-03, 6.06e-04, 7.55e-03]    []  \n",
      "8750      [1.62e-03, 3.60e-02, 6.06e-07, 1.21e-03, 5.91e-04, 7.61e-03]    [1.62e-03, 3.60e-02, 6.06e-07, 1.21e-03, 5.91e-04, 7.61e-03]    []  \n",
      "9100      [1.57e-03, 3.59e-02, 3.63e-09, 1.36e-03, 6.04e-04, 7.55e-03]    [1.57e-03, 3.59e-02, 3.63e-09, 1.36e-03, 6.04e-04, 7.55e-03]    []  \n",
      "9450      [1.58e-03, 3.59e-02, 3.08e-08, 1.34e-03, 5.99e-04, 7.55e-03]    [1.58e-03, 3.59e-02, 3.08e-08, 1.34e-03, 5.99e-04, 7.55e-03]    []  \n",
      "9800      [1.57e-03, 3.59e-02, 4.18e-09, 1.36e-03, 6.02e-04, 7.55e-03]    [1.57e-03, 3.59e-02, 4.18e-09, 1.36e-03, 6.02e-04, 7.55e-03]    []  \n",
      "10150     [1.57e-03, 3.59e-02, 3.15e-09, 1.37e-03, 6.01e-04, 7.55e-03]    [1.57e-03, 3.59e-02, 3.15e-09, 1.37e-03, 6.01e-04, 7.55e-03]    []  \n",
      "10500     [1.57e-03, 3.59e-02, 4.31e-09, 1.36e-03, 6.00e-04, 7.55e-03]    [1.57e-03, 3.59e-02, 4.31e-09, 1.36e-03, 6.00e-04, 7.55e-03]    []  \n",
      "10850     [1.57e-03, 3.59e-02, 4.47e-09, 1.36e-03, 5.99e-04, 7.55e-03]    [1.57e-03, 3.59e-02, 4.47e-09, 1.36e-03, 5.99e-04, 7.55e-03]    []  \n",
      "11200     [1.57e-03, 3.59e-02, 8.67e-09, 1.36e-03, 5.98e-04, 7.56e-03]    [1.57e-03, 3.59e-02, 8.67e-09, 1.36e-03, 5.98e-04, 7.56e-03]    []  \n",
      "11550     [1.57e-03, 3.59e-02, 4.56e-09, 1.36e-03, 5.98e-04, 7.55e-03]    [1.57e-03, 3.59e-02, 4.56e-09, 1.36e-03, 5.98e-04, 7.55e-03]    []  \n",
      "11900     [1.55e-03, 3.58e-02, 6.62e-09, 1.38e-03, 6.06e-04, 7.59e-03]    [1.55e-03, 3.58e-02, 6.62e-09, 1.38e-03, 6.06e-04, 7.59e-03]    []  \n",
      "12250     [1.56e-03, 3.59e-02, 4.77e-09, 1.36e-03, 5.97e-04, 7.55e-03]    [1.56e-03, 3.59e-02, 4.77e-09, 1.36e-03, 5.97e-04, 7.55e-03]    []  \n",
      "12600     [1.56e-03, 3.59e-02, 4.94e-09, 1.36e-03, 5.97e-04, 7.55e-03]    [1.56e-03, 3.59e-02, 4.94e-09, 1.36e-03, 5.97e-04, 7.55e-03]    []  \n",
      "12950     [1.57e-03, 3.59e-02, 2.30e-09, 1.35e-03, 5.92e-04, 7.50e-03]    [1.57e-03, 3.59e-02, 2.30e-09, 1.35e-03, 5.92e-04, 7.50e-03]    []  \n",
      "13300     [1.56e-03, 3.59e-02, 5.20e-09, 1.37e-03, 5.97e-04, 7.55e-03]    [1.56e-03, 3.59e-02, 5.20e-09, 1.37e-03, 5.97e-04, 7.55e-03]    []  \n",
      "13650     [1.56e-03, 3.59e-02, 4.36e-09, 1.37e-03, 5.96e-04, 7.55e-03]    [1.56e-03, 3.59e-02, 4.36e-09, 1.37e-03, 5.96e-04, 7.55e-03]    []  \n",
      "14000     [1.56e-03, 3.59e-02, 6.40e-10, 1.38e-03, 5.95e-04, 7.53e-03]    [1.56e-03, 3.59e-02, 6.40e-10, 1.38e-03, 5.95e-04, 7.53e-03]    []  \n",
      "14350     [1.55e-03, 3.58e-02, 8.17e-09, 1.37e-03, 6.02e-04, 7.59e-03]    [1.55e-03, 3.58e-02, 8.17e-09, 1.37e-03, 6.02e-04, 7.59e-03]    []  \n",
      "14700     [1.57e-03, 3.59e-02, 4.58e-09, 1.37e-03, 5.92e-04, 7.49e-03]    [1.57e-03, 3.59e-02, 4.58e-09, 1.37e-03, 5.92e-04, 7.49e-03]    []  \n",
      "15050     [1.56e-03, 3.59e-02, 3.89e-09, 1.36e-03, 5.94e-04, 7.55e-03]    [1.56e-03, 3.59e-02, 3.89e-09, 1.36e-03, 5.94e-04, 7.55e-03]    []  \n",
      "15400     [1.56e-03, 3.59e-02, 5.02e-09, 1.37e-03, 5.96e-04, 7.56e-03]    [1.56e-03, 3.59e-02, 5.02e-09, 1.37e-03, 5.96e-04, 7.56e-03]    []  \n",
      "15750     [1.56e-03, 3.59e-02, 7.73e-09, 1.36e-03, 5.94e-04, 7.55e-03]    [1.56e-03, 3.59e-02, 7.73e-09, 1.36e-03, 5.94e-04, 7.55e-03]    []  \n",
      "16100     [1.59e-03, 3.60e-02, 1.14e-07, 1.31e-03, 5.85e-04, 7.52e-03]    [1.59e-03, 3.60e-02, 1.14e-07, 1.31e-03, 5.85e-04, 7.52e-03]    []  \n",
      "16450     [1.56e-03, 3.59e-02, 4.74e-09, 1.36e-03, 5.93e-04, 7.55e-03]    [1.56e-03, 3.59e-02, 4.74e-09, 1.36e-03, 5.93e-04, 7.55e-03]    []  \n",
      "16800     [1.56e-03, 3.59e-02, 9.13e-10, 1.37e-03, 5.93e-04, 7.52e-03]    [1.56e-03, 3.59e-02, 9.13e-10, 1.37e-03, 5.93e-04, 7.52e-03]    []  \n",
      "17150     [1.56e-03, 3.59e-02, 4.95e-09, 1.36e-03, 5.93e-04, 7.55e-03]    [1.56e-03, 3.59e-02, 4.95e-09, 1.36e-03, 5.93e-04, 7.55e-03]    []  \n",
      "17500     [1.56e-03, 3.59e-02, 4.28e-12, 1.37e-03, 5.93e-04, 7.52e-03]    [1.56e-03, 3.59e-02, 4.28e-12, 1.37e-03, 5.93e-04, 7.52e-03]    []  \n",
      "17850     [1.54e-03, 3.58e-02, 6.56e-11, 1.40e-03, 6.15e-04, 7.63e-03]    [1.54e-03, 3.58e-02, 6.56e-11, 1.40e-03, 6.15e-04, 7.63e-03]    []  \n",
      "18200     [1.55e-03, 3.58e-02, 1.88e-08, 1.37e-03, 6.03e-04, 7.62e-03]    [1.55e-03, 3.58e-02, 1.88e-08, 1.37e-03, 6.03e-04, 7.62e-03]    []  \n",
      "18550     [1.56e-03, 3.59e-02, 1.87e-09, 1.37e-03, 5.91e-04, 7.54e-03]    [1.56e-03, 3.59e-02, 1.87e-09, 1.37e-03, 5.91e-04, 7.54e-03]    []  \n",
      "18900     [1.56e-03, 3.59e-02, 4.96e-09, 1.36e-03, 5.92e-04, 7.55e-03]    [1.56e-03, 3.59e-02, 4.96e-09, 1.36e-03, 5.92e-04, 7.55e-03]    []  \n",
      "19250     [1.54e-03, 3.58e-02, 2.72e-08, 1.38e-03, 6.11e-04, 7.65e-03]    [1.54e-03, 3.58e-02, 2.72e-08, 1.38e-03, 6.11e-04, 7.65e-03]    []  \n",
      "19600     [1.56e-03, 3.59e-02, 8.85e-09, 1.36e-03, 5.90e-04, 7.55e-03]    [1.56e-03, 3.59e-02, 8.85e-09, 1.36e-03, 5.90e-04, 7.55e-03]    []  \n",
      "19950     [1.56e-03, 3.58e-02, 6.16e-09, 1.37e-03, 5.97e-04, 7.60e-03]    [1.56e-03, 3.58e-02, 6.16e-09, 1.37e-03, 5.97e-04, 7.60e-03]    []  \n",
      "20300     [1.56e-03, 3.59e-02, 3.62e-11, 1.37e-03, 5.89e-04, 7.51e-03]    [1.56e-03, 3.59e-02, 3.62e-11, 1.37e-03, 5.89e-04, 7.51e-03]    []  \n",
      "20650     [1.56e-03, 3.59e-02, 9.34e-09, 1.37e-03, 5.92e-04, 7.56e-03]    [1.56e-03, 3.59e-02, 9.34e-09, 1.37e-03, 5.92e-04, 7.56e-03]    []  \n",
      "21000     [1.56e-03, 3.59e-02, 2.91e-09, 1.37e-03, 5.89e-04, 7.55e-03]    [1.56e-03, 3.59e-02, 2.91e-09, 1.37e-03, 5.89e-04, 7.55e-03]    []  \n",
      "21350     [1.56e-03, 3.59e-02, 1.46e-08, 1.36e-03, 5.87e-04, 7.55e-03]    [1.56e-03, 3.59e-02, 1.46e-08, 1.36e-03, 5.87e-04, 7.55e-03]    []  \n",
      "21700     [1.56e-03, 3.59e-02, 5.98e-09, 1.36e-03, 5.87e-04, 7.56e-03]    [1.56e-03, 3.59e-02, 5.98e-09, 1.36e-03, 5.87e-04, 7.56e-03]    []  \n",
      "22050     [1.56e-03, 3.59e-02, 4.65e-09, 1.37e-03, 5.87e-04, 7.55e-03]    [1.56e-03, 3.59e-02, 4.65e-09, 1.37e-03, 5.87e-04, 7.55e-03]    []  \n",
      "22400     [1.55e-03, 3.58e-02, 7.66e-08, 1.41e-03, 5.93e-04, 7.61e-03]    [1.55e-03, 3.58e-02, 7.66e-08, 1.41e-03, 5.93e-04, 7.61e-03]    []  \n",
      "22750     [1.56e-03, 3.59e-02, 2.77e-09, 1.37e-03, 5.84e-04, 7.54e-03]    [1.56e-03, 3.59e-02, 2.77e-09, 1.37e-03, 5.84e-04, 7.54e-03]    []  \n",
      "23100     [1.56e-03, 3.59e-02, 1.28e-08, 1.36e-03, 5.81e-04, 7.55e-03]    [1.56e-03, 3.59e-02, 1.28e-08, 1.36e-03, 5.81e-04, 7.55e-03]    []  \n",
      "23450     [1.56e-03, 3.59e-02, 7.97e-09, 1.36e-03, 5.82e-04, 7.56e-03]    [1.56e-03, 3.59e-02, 7.97e-09, 1.36e-03, 5.82e-04, 7.56e-03]    []  \n",
      "23800     [1.56e-03, 3.59e-02, 2.98e-08, 1.35e-03, 5.79e-04, 7.57e-03]    [1.56e-03, 3.59e-02, 2.98e-08, 1.35e-03, 5.79e-04, 7.57e-03]    []  \n",
      "24150     [1.56e-03, 3.59e-02, 9.39e-09, 1.36e-03, 5.79e-04, 7.55e-03]    [1.56e-03, 3.59e-02, 9.39e-09, 1.36e-03, 5.79e-04, 7.55e-03]    []  \n",
      "24500     [1.55e-03, 3.59e-02, 4.38e-09, 1.37e-03, 5.81e-04, 7.55e-03]    [1.55e-03, 3.59e-02, 4.38e-09, 1.37e-03, 5.81e-04, 7.55e-03]    []  \n",
      "24850     [1.56e-03, 3.59e-02, 1.76e-08, 1.36e-03, 5.76e-04, 7.55e-03]    [1.56e-03, 3.59e-02, 1.76e-08, 1.36e-03, 5.76e-04, 7.55e-03]    []  \n",
      "25200     [1.56e-03, 3.59e-02, 1.10e-08, 1.36e-03, 5.78e-04, 7.54e-03]    [1.56e-03, 3.59e-02, 1.10e-08, 1.36e-03, 5.78e-04, 7.54e-03]    []  \n",
      "25550     [1.56e-03, 3.59e-02, 1.05e-08, 1.36e-03, 5.77e-04, 7.55e-03]    [1.56e-03, 3.59e-02, 1.05e-08, 1.36e-03, 5.77e-04, 7.55e-03]    []  \n",
      "25900     [1.56e-03, 3.59e-02, 1.10e-08, 1.36e-03, 5.76e-04, 7.55e-03]    [1.56e-03, 3.59e-02, 1.10e-08, 1.36e-03, 5.76e-04, 7.55e-03]    []  \n",
      "26250     [1.55e-03, 3.59e-02, 1.95e-10, 1.38e-03, 5.79e-04, 7.55e-03]    [1.55e-03, 3.59e-02, 1.95e-10, 1.38e-03, 5.79e-04, 7.55e-03]    []  \n",
      "26600     [1.56e-03, 3.59e-02, 1.85e-08, 1.36e-03, 5.74e-04, 7.55e-03]    [1.56e-03, 3.59e-02, 1.85e-08, 1.36e-03, 5.74e-04, 7.55e-03]    []  \n",
      "26950     [1.56e-03, 3.59e-02, 2.98e-08, 1.35e-03, 5.73e-04, 7.55e-03]    [1.56e-03, 3.59e-02, 2.98e-08, 1.35e-03, 5.73e-04, 7.55e-03]    []  \n",
      "27300     [1.59e-03, 3.59e-02, 1.50e-07, 1.31e-03, 5.65e-04, 7.54e-03]    [1.59e-03, 3.59e-02, 1.50e-07, 1.31e-03, 5.65e-04, 7.54e-03]    []  \n",
      "27650     [1.54e-03, 3.58e-02, 1.12e-08, 1.39e-03, 5.95e-04, 7.64e-03]    [1.54e-03, 3.58e-02, 1.12e-08, 1.39e-03, 5.95e-04, 7.64e-03]    []  \n",
      "28000     [1.53e-03, 3.59e-02, 4.61e-08, 1.41e-03, 5.97e-04, 7.56e-03]    [1.53e-03, 3.59e-02, 4.61e-08, 1.41e-03, 5.97e-04, 7.56e-03]    []  \n",
      "28350     [1.57e-03, 3.59e-02, 1.30e-07, 1.34e-03, 5.71e-04, 7.58e-03]    [1.57e-03, 3.59e-02, 1.30e-07, 1.34e-03, 5.71e-04, 7.58e-03]    []  \n",
      "28700     [1.53e-03, 3.60e-02, 1.66e-09, 1.37e-03, 5.83e-04, 7.45e-03]    [1.53e-03, 3.60e-02, 1.66e-09, 1.37e-03, 5.83e-04, 7.45e-03]    []  \n",
      "29050     [1.56e-03, 3.59e-02, 6.44e-09, 1.36e-03, 5.74e-04, 7.55e-03]    [1.56e-03, 3.59e-02, 6.44e-09, 1.36e-03, 5.74e-04, 7.55e-03]    []  \n",
      "29400     [1.56e-03, 3.59e-02, 7.30e-09, 1.36e-03, 5.74e-04, 7.55e-03]    [1.56e-03, 3.59e-02, 7.30e-09, 1.36e-03, 5.74e-04, 7.55e-03]    []  \n",
      "29750     [1.56e-03, 3.59e-02, 8.98e-09, 1.36e-03, 5.74e-04, 7.55e-03]    [1.56e-03, 3.59e-02, 8.98e-09, 1.36e-03, 5.74e-04, 7.55e-03]    []  \n",
      "30100     [1.56e-03, 3.59e-02, 1.10e-08, 1.36e-03, 5.74e-04, 7.56e-03]    [1.56e-03, 3.59e-02, 1.10e-08, 1.36e-03, 5.74e-04, 7.56e-03]    []  \n",
      "30450     [1.53e-03, 3.59e-02, 7.87e-08, 1.42e-03, 5.93e-04, 7.56e-03]    [1.53e-03, 3.59e-02, 7.87e-08, 1.42e-03, 5.93e-04, 7.56e-03]    []  \n",
      "30800     [1.56e-03, 3.59e-02, 2.47e-09, 1.37e-03, 5.75e-04, 7.55e-03]    [1.56e-03, 3.59e-02, 2.47e-09, 1.37e-03, 5.75e-04, 7.55e-03]    []  \n",
      "31150     [1.56e-03, 3.59e-02, 1.79e-08, 1.36e-03, 5.73e-04, 7.56e-03]    [1.56e-03, 3.59e-02, 1.79e-08, 1.36e-03, 5.73e-04, 7.56e-03]    []  \n",
      "31500     [1.58e-03, 3.59e-02, 8.10e-09, 1.36e-03, 5.69e-04, 7.51e-03]    [1.58e-03, 3.59e-02, 8.10e-09, 1.36e-03, 5.69e-04, 7.51e-03]    []  \n",
      "31850     [1.56e-03, 3.59e-02, 7.25e-09, 1.36e-03, 5.74e-04, 7.55e-03]    [1.56e-03, 3.59e-02, 7.25e-09, 1.36e-03, 5.74e-04, 7.55e-03]    []  \n",
      "32200     [1.53e-03, 3.59e-02, 2.27e-07, 1.44e-03, 5.91e-04, 7.54e-03]    [1.53e-03, 3.59e-02, 2.27e-07, 1.44e-03, 5.91e-04, 7.54e-03]    []  \n",
      "32550     [1.55e-03, 3.59e-02, 1.17e-07, 1.41e-03, 5.80e-04, 7.52e-03]    [1.55e-03, 3.59e-02, 1.17e-07, 1.41e-03, 5.80e-04, 7.52e-03]    []  \n",
      "32900     [1.56e-03, 3.59e-02, 1.03e-08, 1.36e-03, 5.73e-04, 7.56e-03]    [1.56e-03, 3.59e-02, 1.03e-08, 1.36e-03, 5.73e-04, 7.56e-03]    []  \n",
      "33250     [1.56e-03, 3.59e-02, 7.99e-09, 1.36e-03, 5.74e-04, 7.55e-03]    [1.56e-03, 3.59e-02, 7.99e-09, 1.36e-03, 5.74e-04, 7.55e-03]    []  \n",
      "33600     [1.57e-03, 3.60e-02, 1.44e-07, 1.33e-03, 5.70e-04, 7.52e-03]    [1.57e-03, 3.60e-02, 1.44e-07, 1.33e-03, 5.70e-04, 7.52e-03]    []  \n",
      "33950     [1.57e-03, 3.59e-02, 2.72e-08, 1.35e-03, 5.71e-04, 7.55e-03]    [1.57e-03, 3.59e-02, 2.72e-08, 1.35e-03, 5.71e-04, 7.55e-03]    []  \n",
      "34300     [1.56e-03, 3.59e-02, 2.97e-10, 1.38e-03, 5.78e-04, 7.59e-03]    [1.56e-03, 3.59e-02, 2.97e-10, 1.38e-03, 5.78e-04, 7.59e-03]    []  \n",
      "34650     [1.56e-03, 3.59e-02, 8.81e-10, 1.38e-03, 5.78e-04, 7.59e-03]    [1.56e-03, 3.59e-02, 8.81e-10, 1.38e-03, 5.78e-04, 7.59e-03]    []  \n",
      "35000     [1.56e-03, 3.59e-02, 6.10e-09, 1.36e-03, 5.74e-04, 7.55e-03]    [1.56e-03, 3.59e-02, 6.10e-09, 1.36e-03, 5.74e-04, 7.55e-03]    []  \n",
      "\n",
      "Best model at step 35000:\n",
      "  train loss: 4.70e-02\n",
      "  test loss: 4.70e-02\n",
      "  test metric: []\n",
      "\n",
      "'train' took 328.787815 s\n",
      "\n",
      "Saving loss history to ../results/models/model1\\loss.dat ...\n",
      "Saving training data to ../results/models/model1\\train.dat ...\n",
      "Saving test data to ../results/models/model1\\test.dat ...\n"
     ]
    },
    {
     "data": {
      "image/png": "[encoded data removed]",
      "text/plain": [
       "<Figure size 640x480 with 1 Axes>"
      ]
     },
     "metadata": {},
     "output_type": "display_data"
    },
    {
     "data": {
      "image/png": "[encoded data removed]",
      "text/plain": [
       "<Figure size 640x480 with 1 Axes>"
      ]
     },
     "metadata": {},
     "output_type": "display_data"
    }
   ],
   "source": [
    "variable = dde.callbacks.VariableValue(\n",
    "    [a1, a2],\n",
    "    period=(iterations//100 if iterations > 99 else 1),\n",
    "    filename=model_dir+'/variables.dat')\n",
    "\n",
    "start = time.time()\n",
    "\n",
    "to_npz(datafile, '../data/model1.npz', x_cols=['t'], y_cols=y_cols)\n",
    "ob_t, ob_y = load_training_data('../data/model1.npz')\n",
    "# print(ob_y1.values, ob_y2.values, ob_y3.values)\n",
    "ic1 = dde.icbc.IC(geom, lambda X: initial_conditions[0], boundary, component=0)\n",
    "ic2 = dde.icbc.IC(geom, lambda X: initial_conditions[1], boundary, component=1)\n",
    "\n",
    "ob_y1 = dde.icbc.PointSetBC(ob_t, ob_y[:, 0:1], component=0)\n",
    "ob_y2 = dde.icbc.PointSetBC(ob_t, ob_y[:, 1:2], component=1)\n",
    "\n",
    "data = dde.data.PDE(\n",
    "    geom,\n",
    "    equations,\n",
    "    [ic1, ic2, ob_y1, ob_y2],\n",
    "    num_domain=200, #TODO\n",
    "    num_boundary=1, #TODO\n",
    "    anchors=ob_t\n",
    ")\n",
    "\n",
    "network = dde.nn.FNN(layers, activation, 'Glorot uniform')\n",
    "model = dde.Model(data, network)\n",
    "\n",
    "model.compile(optimizer, lr=learning_rate, external_trainable_variables=[a1, a2])\n",
    "\n",
    "loss_history, train_state = model.train(\n",
    "    epochs=iterations, callbacks=[variable], display_every=\n",
    "    (iterations // 100 if iterations > 99 else 1)\n",
    "    ,\n",
    "    disregard_previous_best=True\n",
    ")\n",
    "\n",
    "\n",
    "dde.saveplot(loss_history, train_state, issave=True, isplot=False, output_dir=f'{model_dir}')\n",
    "dde.utils.external.plot_loss_history(loss_history,\n",
    "                                     fname=f'{model_dir}/loss_history'\n",
    "                                     )\n",
    "dde.utils.external.plot_best_state(train_state,\n",
    "                                   fname=f'{model_dir}/train_state'\n",
    "                                   )\n",
    "\n",
    "pred = model.predict(ob_t, operator=equations)\n",
    "model.save(f'{model_dir}/nonneg_constr')\n",
    "\n",
    "with open(f'{model_dir}/info.dat', 'x') as f:\n",
    "\n",
    "    lines = [\n",
    "        f'training time: {time.time() - start}\\n',\n",
    "        f'residual: {np.mean(np.absolute(pred))}\\n'\n",
    "        f'best model at: {train_state.best_step}\\n'\n",
    "        f'train loss: {train_state.best_loss_train}\\n'\n",
    "    ]\n",
    "\n",
    "    f.writelines(lines)\n"
   ]
  },
  {
   "cell_type": "code",
   "execution_count": null,
   "metadata": {},
   "outputs": [],
   "source": []
  }
 ],
 "metadata": {
  "kernelspec": {
   "display_name": "Python 3",
   "language": "python",
   "name": "python3"
  },
  "language_info": {
   "codemirror_mode": {
    "name": "ipython",
    "version": 3
   },
   "file_extension": ".py",
   "mimetype": "text/x-python",
   "name": "python",
   "nbconvert_exporter": "python",
   "pygments_lexer": "ipython3",
   "version": "3.12.10"
  }
 },
 "nbformat": 4,
 "nbformat_minor": 2
}
