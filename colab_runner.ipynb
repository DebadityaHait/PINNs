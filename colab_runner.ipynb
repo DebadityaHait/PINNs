{
  "cells": [
    {
      "cell_type": "raw",
      "metadata": {
        "vscode": {
          "languageId": "raw"
        }
      },
      "source": [
        "# PINNs for Alzheimer's Disease Modeling - Batch Runner\n",
        "\n",
        "This notebook automatically:\n",
        "1. Clones the repository\n",
        "2. Sets up the environment\n",
        "3. Downloads all model results\n",
        "4. Displays individual and combined results\n"
      ]
    },
    {
      "cell_type": "raw",
      "metadata": {
        "vscode": {
          "languageId": "raw"
        }
      },
      "source": [
        "## 1. Clone the Repository and Install Dependencies\n"
      ]
    },
    {
      "cell_type": "code",
      "execution_count": null,
      "metadata": {},
      "outputs": [],
      "source": [
        "# Check if repository already exists to avoid nested folders\n",
        "import os\n",
        "import subprocess\n",
        "\n",
        "if not os.path.exists('PINNs'):\n",
        "    # Clone the repository if it doesn't exist\n",
        "    subprocess.run(['git', 'clone', 'https://github.com/DebadityaHait/PINNs'])\n",
        "    \n",
        "# Change to PINNs directory if not already there\n",
        "if os.getcwd().split('/')[-1] != 'PINNs':\n",
        "    os.chdir('PINNs')\n",
        "\n",
        "# Install required packages\n",
        "%pip install torch numpy matplotlib pandas scipy seaborn requests\n"
      ]
    },
    {
      "cell_type": "raw",
      "metadata": {
        "vscode": {
          "languageId": "raw"
        }
      },
      "source": [
        "## 2. Setup Environment and Import Libraries\n"
      ]
    },
    {
      "cell_type": "code",
      "execution_count": null,
      "metadata": {},
      "outputs": [],
      "source": [
        "import os\n",
        "import numpy as np\n",
        "import pandas as pd\n",
        "import matplotlib.pyplot as plt\n",
        "from IPython.display import display, HTML\n",
        "\n",
        "# No need for src directory in path since we're only analyzing results\n",
        "\n",
        "# Create necessary directories if they don't exist\n",
        "os.makedirs('data', exist_ok=True)\n",
        "os.makedirs('results', exist_ok=True)\n",
        "\n",
        "# We don't need to import deepxdeAbeta since we're only analyzing results\n",
        "# and not running the actual models\n"
      ]
    },
    {
      "cell_type": "raw",
      "metadata": {
        "vscode": {
          "languageId": "raw"
        }
      },
      "source": [
        "## 3. Define Helper Functions\n"
      ]
    },
    {
      "cell_type": "code",
      "execution_count": null,
      "metadata": {},
      "outputs": [],
      "source": [
        "def load_model_data(model_num):\n",
        "    \"\"\"Load model data from results directory\"\"\"\n",
        "    model_dir = f\"results/models/model{model_num}\"\n",
        "    \n",
        "    # Check if model directory exists\n",
        "    if not os.path.exists(model_dir):\n",
        "        print(f\"Model {model_num} directory not found: {model_dir}\")\n",
        "        return None\n",
        "    \n",
        "    # Load data\n",
        "    try:\n",
        "        info = pd.read_csv(f\"{model_dir}/info.dat\", sep='\\s+', header=None)\n",
        "        variables = pd.read_csv(f\"{model_dir}/variables.dat\", sep='\\s+', header=None)\n",
        "        loss = pd.read_csv(f\"{model_dir}/loss.dat\", sep='\\s+', header=None)\n",
        "        train = pd.read_csv(f\"{model_dir}/train.dat\", sep='\\s+', header=None)\n",
        "        test = pd.read_csv(f\"{model_dir}/test.dat\", sep='\\s+', header=None)\n",
        "        \n",
        "        # Load model weights if needed\n",
        "        model_file = f\"{model_dir}/nonneg_constr-35000.pt\"\n",
        "        if not os.path.exists(model_file):\n",
        "            model_file = f\"{model_dir}/nonneg_constr-50000.pt\"  # Model 8 uses 50000\n",
        "        \n",
        "        model_exists = os.path.exists(model_file)\n",
        "        \n",
        "        return {\n",
        "            \"info\": info,\n",
        "            \"variables\": variables,\n",
        "            \"loss\": loss,\n",
        "            \"train\": train,\n",
        "            \"test\": test,\n",
        "            \"model_file\": model_file if model_exists else None,\n",
        "            \"model_exists\": model_exists\n",
        "        }\n",
        "    except Exception as e:\n",
        "        print(f\"Error loading data for model {model_num}: {e}\")\n",
        "        return None\n",
        "\n",
        "def plot_loss_history(model_num, model_data):\n",
        "    \"\"\"Plot loss history for a model\"\"\"\n",
        "    if model_data is None or \"loss\" not in model_data:\n",
        "        print(f\"No loss data available for model {model_num}\")\n",
        "        return\n",
        "    \n",
        "    loss_df = model_data[\"loss\"]\n",
        "    \n",
        "    plt.figure(figsize=(10, 6))\n",
        "    plt.semilogy(loss_df[0], loss_df[1], label='Loss')\n",
        "    plt.xlabel('Iterations')\n",
        "    plt.ylabel('Loss')\n",
        "    plt.title(f'Model {model_num} Loss History')\n",
        "    plt.legend()\n",
        "    plt.grid(True, which=\"both\", ls=\"-\")\n",
        "    plt.show()\n",
        "\n",
        "def plot_parameter_evolution(model_num, model_data):\n",
        "    \"\"\"Plot parameter evolution for a model\"\"\"\n",
        "    if model_data is None or \"variables\" not in model_data:\n",
        "        print(f\"No variable data available for model {model_num}\")\n",
        "        return\n",
        "    \n",
        "    var_df = model_data[\"variables\"]\n",
        "    \n",
        "    # Assuming column 0 is iteration, and the rest are parameters\n",
        "    plt.figure(figsize=(12, 8))\n",
        "    for i in range(1, len(var_df.columns)):\n",
        "        plt.plot(var_df[0], var_df[i], label=f'Parameter {i}')\n",
        "    \n",
        "    plt.xlabel('Iterations')\n",
        "    plt.ylabel('Parameter Value')\n",
        "    plt.title(f'Model {model_num} Parameter Evolution')\n",
        "    plt.legend()\n",
        "    plt.grid(True)\n",
        "    plt.show()\n",
        "\n",
        "def display_final_parameters(model_data_dict):\n",
        "    \"\"\"Display final parameters for all models\"\"\"\n",
        "    # Create a DataFrame to hold parameters from all models\n",
        "    final_params = {}\n",
        "    param_names = [\"k1\", \"k2\", \"k3\", \"k4\", \"k5\", \"k6\", \"k7\", \"k8\", \"k9\", \"k10\", \"k11\", \"k12\"]\n",
        "    \n",
        "    for model_num, data in model_data_dict.items():\n",
        "        if data is None or \"variables\" not in data:\n",
        "            continue\n",
        "            \n",
        "        # Get the last row of variables (final parameters)\n",
        "        var_df = data[\"variables\"]\n",
        "        final_row = var_df.iloc[-1]\n",
        "        \n",
        "        # Skip the first column (iteration number)\n",
        "        params = final_row[1:].values\n",
        "        final_params[f\"Model {model_num}\"] = params\n",
        "    \n",
        "    # Create DataFrame with parameter names\n",
        "    num_params = max([len(p) for p in final_params.values()]) if final_params else 0\n",
        "    param_names = param_names[:num_params]\n",
        "    \n",
        "    df = pd.DataFrame(final_params)\n",
        "    df.index = param_names[:len(df)]\n",
        "    \n",
        "    # Display the table\n",
        "    display(HTML(\"<h3>Final Parameter Values for All Models</h3>\"))\n",
        "    display(df)\n",
        "    \n",
        "    # Save to CSV\n",
        "    df.to_csv(\"final_parameters.csv\")\n",
        "    print(\"Final parameters saved to final_parameters.csv\")\n",
        "    \n",
        "    return df\n"
      ]
    },
    {
      "cell_type": "raw",
      "metadata": {
        "vscode": {
          "languageId": "raw"
        }
      },
      "source": [
        "## 4. Download Model Results\n"
      ]
    },
    {
      "cell_type": "code",
      "execution_count": null,
      "metadata": {},
      "outputs": [],
      "source": [
        "def download_model_data(model_num):\n",
        "    \"\"\"Download model data files from GitHub repository\"\"\"\n",
        "    print(f\"Checking if model {model_num} results exist...\")\n",
        "    \n",
        "    model_dir = f\"results/models/model{model_num}\"\n",
        "    if os.path.exists(model_dir) and os.path.exists(f\"{model_dir}/variables.dat\"):\n",
        "        print(f\"Model {model_num} results already exist. Skipping download.\")\n",
        "        return True\n",
        "    \n",
        "    print(f\"Downloading model {model_num} data...\")\n",
        "    try:\n",
        "        # Create necessary directories\n",
        "        os.makedirs(model_dir, exist_ok=True)\n",
        "        \n",
        "        # Define source URLs for model files from GitHub repository\n",
        "        base_url = f\"https://raw.githubusercontent.com/DebadityaHait/PINNs/main/results/models/model{model_num}\"\n",
        "        files_to_download = [\n",
        "            \"info.dat\", \"variables.dat\", \"loss.dat\", \"train.dat\", \"test.dat\", \n",
        "            \"loss_history.png\", \"train_state.png\"\n",
        "        ]\n",
        "        \n",
        "        # Check for model weights file (different for model 8)\n",
        "        if model_num == 8:\n",
        "            model_file = \"nonneg_constr-50000.pt\"\n",
        "        else:\n",
        "            model_file = \"nonneg_constr-35000.pt\"\n",
        "        files_to_download.append(model_file)\n",
        "        \n",
        "        # Download each file\n",
        "        import requests\n",
        "        for file in files_to_download:\n",
        "            url = f\"{base_url}/{file}\"\n",
        "            try:\n",
        "                response = requests.get(url)\n",
        "                if response.status_code == 200:\n",
        "                    with open(f\"{model_dir}/{file}\", \"wb\") as f:\n",
        "                        f.write(response.content)\n",
        "                    print(f\"Downloaded {file}\")\n",
        "                else:\n",
        "                    print(f\"Failed to download {file}: HTTP {response.status_code}\")\n",
        "            except Exception as e:\n",
        "                print(f\"Error downloading {file}: {e}\")\n",
        "        \n",
        "        return True\n",
        "    except Exception as e:\n",
        "        print(f\"Error downloading model {model_num} data: {e}\")\n",
        "        return False\n"
      ]
    },
    {
      "cell_type": "code",
      "execution_count": null,
      "metadata": {},
      "outputs": [],
      "source": [
        "# Download all model results\n",
        "for model_num in range(1, 9):\n",
        "    download_model_data(model_num)\n"
      ]
    },
    {
      "cell_type": "raw",
      "metadata": {
        "vscode": {
          "languageId": "raw"
        }
      },
      "source": [
        "## 5. Load and Analyze Results\n"
      ]
    },
    {
      "cell_type": "code",
      "execution_count": null,
      "metadata": {},
      "outputs": [],
      "source": [
        "# Load data for all models\n",
        "model_data_dict = {}\n",
        "for model_num in range(1, 9):\n",
        "    print(f\"Loading data for model {model_num}...\")\n",
        "    model_data = load_model_data(model_num)\n",
        "    if model_data is not None:\n",
        "        model_data_dict[model_num] = model_data\n",
        "        print(f\"✅ Model {model_num} data loaded successfully\")\n",
        "    else:\n",
        "        print(f\"❌ Failed to load data for model {model_num}\")\n",
        "\n",
        "print(f\"\\nLoaded data for {len(model_data_dict)} models\")\n"
      ]
    },
    {
      "cell_type": "raw",
      "metadata": {
        "vscode": {
          "languageId": "raw"
        }
      },
      "source": [
        "## 6. Visualize Individual Model Results\n"
      ]
    },
    {
      "cell_type": "code",
      "execution_count": null,
      "metadata": {},
      "outputs": [],
      "source": [
        "# Plot loss history for each model\n",
        "for model_num, model_data in model_data_dict.items():\n",
        "    print(f\"\\n### Model {model_num} Loss History ###\")\n",
        "    plot_loss_history(model_num, model_data)\n"
      ]
    },
    {
      "cell_type": "code",
      "execution_count": null,
      "metadata": {},
      "outputs": [],
      "source": [
        "# Plot parameter evolution for each model\n",
        "for model_num, model_data in model_data_dict.items():\n",
        "    print(f\"\\n### Model {model_num} Parameter Evolution ###\")\n",
        "    plot_parameter_evolution(model_num, model_data)\n"
      ]
    },
    {
      "cell_type": "raw",
      "metadata": {
        "vscode": {
          "languageId": "raw"
        }
      },
      "source": [
        "## 7. Combined Results Analysis\n"
      ]
    },
    {
      "cell_type": "code",
      "execution_count": null,
      "metadata": {},
      "outputs": [],
      "source": [
        "# Display final parameters table for all models\n",
        "final_params_df = display_final_parameters(model_data_dict)\n"
      ]
    },
    {
      "cell_type": "code",
      "execution_count": null,
      "metadata": {},
      "outputs": [],
      "source": [
        "# Plot combined loss history for all models\n",
        "plt.figure(figsize=(12, 8))\n",
        "\n",
        "for model_num, model_data in model_data_dict.items():\n",
        "    if model_data is None or \"loss\" not in model_data:\n",
        "        continue\n",
        "        \n",
        "    loss_df = model_data[\"loss\"]\n",
        "    plt.semilogy(loss_df[0], loss_df[1], label=f'Model {model_num}')\n",
        "\n",
        "plt.xlabel('Iterations')\n",
        "plt.ylabel('Loss (log scale)')\n",
        "plt.title('Combined Loss History for All Models')\n",
        "plt.legend()\n",
        "plt.grid(True, which=\"both\", ls=\"-\")\n",
        "plt.show()\n"
      ]
    },
    {
      "cell_type": "raw",
      "metadata": {
        "vscode": {
          "languageId": "raw"
        }
      },
      "source": [
        "## 8. Generate Final Comparison Figures\n"
      ]
    },
    {
      "cell_type": "code",
      "execution_count": null,
      "metadata": {},
      "outputs": [],
      "source": [
        "import seaborn as sns\n",
        "\n",
        "# Create a heatmap of final parameters across models\n",
        "plt.figure(figsize=(14, 10))\n",
        "sns.heatmap(final_params_df, annot=True, cmap=\"YlGnBu\", fmt=\".4f\")\n",
        "plt.title(\"Parameter Values Across Models\")\n",
        "plt.tight_layout()\n",
        "plt.show()\n",
        "\n",
        "# Save the figure\n",
        "plt.figure(figsize=(14, 10))\n",
        "sns.heatmap(final_params_df, annot=True, cmap=\"YlGnBu\", fmt=\".4f\")\n",
        "plt.title(\"Parameter Values Across Models\")\n",
        "plt.tight_layout()\n",
        "plt.savefig(\"parameter_comparison_heatmap.png\")\n",
        "print(\"Saved parameter comparison heatmap to parameter_comparison_heatmap.png\")\n"
      ]
    },
    {
      "cell_type": "code",
      "execution_count": null,
      "metadata": {},
      "outputs": [],
      "source": [
        "# Compare final loss values across models\n",
        "final_loss = {}\n",
        "\n",
        "for model_num, model_data in model_data_dict.items():\n",
        "    if model_data is None or \"loss\" not in model_data:\n",
        "        continue\n",
        "        \n",
        "    loss_df = model_data[\"loss\"]\n",
        "    final_loss[f\"Model {model_num}\"] = loss_df[1].iloc[-1]\n",
        "\n",
        "loss_comparison_df = pd.DataFrame(list(final_loss.items()))\n",
        "loss_comparison_df.columns = [\"Model\", \"Final Loss\"]\n",
        "loss_comparison_df = loss_comparison_df.sort_values(\"Final Loss\")\n",
        "\n",
        "plt.figure(figsize=(10, 6))\n",
        "plt.bar(loss_comparison_df[\"Model\"], loss_comparison_df[\"Final Loss\"])\n",
        "plt.xlabel(\"Model\")\n",
        "plt.ylabel(\"Final Loss Value\")\n",
        "plt.title(\"Final Loss Comparison Across Models\")\n",
        "plt.yscale(\"log\")\n",
        "plt.grid(axis=\"y\", linestyle=\"--\", alpha=0.7)\n",
        "\n",
        "# Add value labels on top of bars\n",
        "for i, v in enumerate(loss_comparison_df[\"Final Loss\"]):\n",
        "    plt.text(i, v * 1.05, f\"{v:.6f}\", ha=\"center\", va=\"bottom\", rotation=90, fontsize=9)\n",
        "\n",
        "plt.tight_layout()\n",
        "plt.show()\n",
        "\n",
        "# Save the figure\n",
        "plt.figure(figsize=(10, 6))\n",
        "plt.bar(loss_comparison_df[\"Model\"], loss_comparison_df[\"Final Loss\"])\n",
        "plt.xlabel(\"Model\")\n",
        "plt.ylabel(\"Final Loss Value\")\n",
        "plt.title(\"Final Loss Comparison Across Models\")\n",
        "plt.yscale(\"log\")\n",
        "plt.grid(axis=\"y\", linestyle=\"--\", alpha=0.7)\n",
        "for i, v in enumerate(loss_comparison_df[\"Final Loss\"]):\n",
        "    plt.text(i, v * 1.05, f\"{v:.6f}\", ha=\"center\", va=\"bottom\", rotation=90, fontsize=9)\n",
        "plt.tight_layout()\n",
        "plt.savefig(\"final_loss_comparison.png\")\n",
        "print(\"Saved final loss comparison to final_loss_comparison.png\")\n"
      ]
    },
    {
      "cell_type": "raw",
      "metadata": {
        "vscode": {
          "languageId": "raw"
        }
      },
      "source": [
        "## 9. Summary and Conclusions\n"
      ]
    },
    {
      "cell_type": "code",
      "execution_count": null,
      "metadata": {},
      "outputs": [],
      "source": [
        "# Display summary statistics\n",
        "print(\"# Summary of Model Results\")\n",
        "print(f\"Number of models analyzed: {len(model_data_dict)}\")\n",
        "\n",
        "if loss_comparison_df is not None and not loss_comparison_df.empty:\n",
        "    best_model = loss_comparison_df.iloc[0][\"Model\"]\n",
        "    best_loss = loss_comparison_df.iloc[0][\"Final Loss\"]\n",
        "    print(f\"Best performing model: {best_model} with final loss: {best_loss:.6f}\")\n",
        "\n",
        "print(\"\\nFinal parameter values have been saved to final_parameters.csv\")\n",
        "print(\"Comparison figures have been saved as PNG files\")\n"
      ]
    }
  ],
  "metadata": {
    "language_info": {
      "name": "python"
    }
  },
  "nbformat": 4,
  "nbformat_minor": 2
}
